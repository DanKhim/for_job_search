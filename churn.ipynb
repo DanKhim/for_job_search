{
 "cells": [
  {
   "cell_type": "markdown",
   "metadata": {},
   "source": [
    "# День добрый\n",
    "___\n",
    "### Представляю твоему вниманию проектную работу\n",
    "## <ins>\"Прогнозирование оттока клиентов из банка\"</ins>\n",
    "___\n",
    "### Данное исследование разделим на несколько шагов:\n",
    "___\n",
    "<a id='top'></a>\n",
    "1. [Постановка задачи](#1)\n",
    "2. [Общая информация о данных](#2)\n",
    "3. [Предобработка данных](#3)\n",
    "4. [Подготовка признаков](#4)\n",
    "5. [Несбалансированные данные](#5)\n",
    "6. [Сбалансированные данные](#6)\n",
    "7. [Тестирование](#7)\n",
    "8. [Второй набор данных](#8)\n",
    "9. [Вывод](#9)"
   ]
  },
  {
   "cell_type": "markdown",
   "metadata": {},
   "source": [
    "<a id='1'></a>"
   ]
  },
  {
   "cell_type": "markdown",
   "metadata": {},
   "source": [
    "## 1. Постановка задачи\n",
    "Из «Бета-Банка» стали уходить клиенты. Банковские маркетологи считают, что сохранять текущих клиентов дешевле, чем привлекать новых.\n",
    "\n",
    "Необходимо спрогнозировать, уйдёт клиент из банка в ближайшее время или нет. У нас есть исторические данные о поведении клиентов и расторжении договоров с банком.\n",
    "\n",
    "Построим модель с предельно большим значением F1-меры. Дополнительно измерим AUC-ROC и сравним её значение с F1-мерой."
   ]
  },
  {
   "cell_type": "markdown",
   "metadata": {},
   "source": [
    "<a id='2'></a>"
   ]
  },
  {
   "cell_type": "markdown",
   "metadata": {},
   "source": [
    "## 2. Общая информация о данных"
   ]
  },
  {
   "cell_type": "code",
   "execution_count": 1,
   "metadata": {},
   "outputs": [],
   "source": [
    "import pandas as pd\n",
    "import numpy as np\n",
    "import matplotlib.pyplot as plt\n",
    "\n",
    "from sklearn.model_selection import train_test_split\n",
    "\n",
    "from sklearn.preprocessing import LabelEncoder\n",
    "from sklearn.preprocessing import StandardScaler\n",
    "\n",
    "from sklearn.utils import shuffle\n",
    "\n",
    "from sklearn.tree import DecisionTreeClassifier\n",
    "from sklearn.ensemble import RandomForestClassifier\n",
    "from sklearn.linear_model import LogisticRegression\n",
    "\n",
    "from sklearn.metrics import f1_score\n",
    "from sklearn.metrics import roc_auc_score\n",
    "from sklearn.metrics import roc_curve"
   ]
  },
  {
   "cell_type": "code",
   "execution_count": 2,
   "metadata": {
    "scrolled": false
   },
   "outputs": [
    {
     "data": {
      "text/html": [
       "<div>\n",
       "<style scoped>\n",
       "    .dataframe tbody tr th:only-of-type {\n",
       "        vertical-align: middle;\n",
       "    }\n",
       "\n",
       "    .dataframe tbody tr th {\n",
       "        vertical-align: top;\n",
       "    }\n",
       "\n",
       "    .dataframe thead th {\n",
       "        text-align: right;\n",
       "    }\n",
       "</style>\n",
       "<table border=\"1\" class=\"dataframe\">\n",
       "  <thead>\n",
       "    <tr style=\"text-align: right;\">\n",
       "      <th></th>\n",
       "      <th>RowNumber</th>\n",
       "      <th>CustomerId</th>\n",
       "      <th>Surname</th>\n",
       "      <th>CreditScore</th>\n",
       "      <th>Geography</th>\n",
       "      <th>Gender</th>\n",
       "      <th>Age</th>\n",
       "      <th>Tenure</th>\n",
       "      <th>Balance</th>\n",
       "      <th>NumOfProducts</th>\n",
       "      <th>HasCrCard</th>\n",
       "      <th>IsActiveMember</th>\n",
       "      <th>EstimatedSalary</th>\n",
       "      <th>Exited</th>\n",
       "    </tr>\n",
       "  </thead>\n",
       "  <tbody>\n",
       "    <tr>\n",
       "      <td>0</td>\n",
       "      <td>1</td>\n",
       "      <td>15634602</td>\n",
       "      <td>Hargrave</td>\n",
       "      <td>619</td>\n",
       "      <td>France</td>\n",
       "      <td>Female</td>\n",
       "      <td>42</td>\n",
       "      <td>2.0</td>\n",
       "      <td>0.00</td>\n",
       "      <td>1</td>\n",
       "      <td>1</td>\n",
       "      <td>1</td>\n",
       "      <td>101348.88</td>\n",
       "      <td>1</td>\n",
       "    </tr>\n",
       "    <tr>\n",
       "      <td>1</td>\n",
       "      <td>2</td>\n",
       "      <td>15647311</td>\n",
       "      <td>Hill</td>\n",
       "      <td>608</td>\n",
       "      <td>Spain</td>\n",
       "      <td>Female</td>\n",
       "      <td>41</td>\n",
       "      <td>1.0</td>\n",
       "      <td>83807.86</td>\n",
       "      <td>1</td>\n",
       "      <td>0</td>\n",
       "      <td>1</td>\n",
       "      <td>112542.58</td>\n",
       "      <td>0</td>\n",
       "    </tr>\n",
       "    <tr>\n",
       "      <td>2</td>\n",
       "      <td>3</td>\n",
       "      <td>15619304</td>\n",
       "      <td>Onio</td>\n",
       "      <td>502</td>\n",
       "      <td>France</td>\n",
       "      <td>Female</td>\n",
       "      <td>42</td>\n",
       "      <td>8.0</td>\n",
       "      <td>159660.80</td>\n",
       "      <td>3</td>\n",
       "      <td>1</td>\n",
       "      <td>0</td>\n",
       "      <td>113931.57</td>\n",
       "      <td>1</td>\n",
       "    </tr>\n",
       "    <tr>\n",
       "      <td>3</td>\n",
       "      <td>4</td>\n",
       "      <td>15701354</td>\n",
       "      <td>Boni</td>\n",
       "      <td>699</td>\n",
       "      <td>France</td>\n",
       "      <td>Female</td>\n",
       "      <td>39</td>\n",
       "      <td>1.0</td>\n",
       "      <td>0.00</td>\n",
       "      <td>2</td>\n",
       "      <td>0</td>\n",
       "      <td>0</td>\n",
       "      <td>93826.63</td>\n",
       "      <td>0</td>\n",
       "    </tr>\n",
       "    <tr>\n",
       "      <td>4</td>\n",
       "      <td>5</td>\n",
       "      <td>15737888</td>\n",
       "      <td>Mitchell</td>\n",
       "      <td>850</td>\n",
       "      <td>Spain</td>\n",
       "      <td>Female</td>\n",
       "      <td>43</td>\n",
       "      <td>2.0</td>\n",
       "      <td>125510.82</td>\n",
       "      <td>1</td>\n",
       "      <td>1</td>\n",
       "      <td>1</td>\n",
       "      <td>79084.10</td>\n",
       "      <td>0</td>\n",
       "    </tr>\n",
       "  </tbody>\n",
       "</table>\n",
       "</div>"
      ],
      "text/plain": [
       "   RowNumber  CustomerId   Surname  CreditScore Geography  Gender  Age  \\\n",
       "0          1    15634602  Hargrave          619    France  Female   42   \n",
       "1          2    15647311      Hill          608     Spain  Female   41   \n",
       "2          3    15619304      Onio          502    France  Female   42   \n",
       "3          4    15701354      Boni          699    France  Female   39   \n",
       "4          5    15737888  Mitchell          850     Spain  Female   43   \n",
       "\n",
       "   Tenure    Balance  NumOfProducts  HasCrCard  IsActiveMember  \\\n",
       "0     2.0       0.00              1          1               1   \n",
       "1     1.0   83807.86              1          0               1   \n",
       "2     8.0  159660.80              3          1               0   \n",
       "3     1.0       0.00              2          0               0   \n",
       "4     2.0  125510.82              1          1               1   \n",
       "\n",
       "   EstimatedSalary  Exited  \n",
       "0        101348.88       1  \n",
       "1        112542.58       0  \n",
       "2        113931.57       1  \n",
       "3         93826.63       0  \n",
       "4         79084.10       0  "
      ]
     },
     "metadata": {},
     "output_type": "display_data"
    },
    {
     "name": "stdout",
     "output_type": "stream",
     "text": [
      "\n",
      "<class 'pandas.core.frame.DataFrame'>\n",
      "RangeIndex: 10000 entries, 0 to 9999\n",
      "Data columns (total 14 columns):\n",
      "RowNumber          10000 non-null int64\n",
      "CustomerId         10000 non-null int64\n",
      "Surname            10000 non-null object\n",
      "CreditScore        10000 non-null int64\n",
      "Geography          10000 non-null object\n",
      "Gender             10000 non-null object\n",
      "Age                10000 non-null int64\n",
      "Tenure             9091 non-null float64\n",
      "Balance            10000 non-null float64\n",
      "NumOfProducts      10000 non-null int64\n",
      "HasCrCard          10000 non-null int64\n",
      "IsActiveMember     10000 non-null int64\n",
      "EstimatedSalary    10000 non-null float64\n",
      "Exited             10000 non-null int64\n",
      "dtypes: float64(3), int64(8), object(3)\n",
      "memory usage: 1.1+ MB\n",
      "None\n"
     ]
    }
   ],
   "source": [
    "# прочитаем файл:\n",
    "\n",
    "try:\n",
    "    df = pd.read_csv(\"churn.csv\")\n",
    "except:\n",
    "    try:\n",
    "        df = pd.read_csv(\"/datasets/Churn.csv\")\n",
    "    except:\n",
    "        df = pd.read_csv(\"https://code.s3.yandex.net/datasets/Churn.csv\")\n",
    "        \n",
    "display(df.head())\n",
    "print()\n",
    "print(df.info())"
   ]
  },
  {
   "cell_type": "markdown",
   "metadata": {},
   "source": [
    "### Описание данных\n",
    "**Признаки:**  \n",
    " * RowNumber — индекс строки в данных\n",
    " * CustomerId — уникальный идентификатор клиента\n",
    " * Surname — фамилия\n",
    " * CreditScore — кредитный рейтинг\n",
    " * Geography — страна проживания\n",
    " * Gender — пол\n",
    " * Age — возраст\n",
    " * Tenure — количество недвижимости у клиента\n",
    " * Balance — баланс на счёте\n",
    " * NumOfProducts — количество продуктов банка, используемых клиентом\n",
    " * HasCrCard — наличие кредитной карты\n",
    " * IsActiveMember — активность клиента\n",
    " * EstimatedSalary — предполагаемая зарплата\n",
    " \n",
    "**Целевой признак:**  \n",
    " * Exited — факт ухода клиента"
   ]
  },
  {
   "cell_type": "markdown",
   "metadata": {},
   "source": [
    "В таблице с исходными данными нам предоставлены сведения о клиентах. Есть несколько признаков, которые нам не понядобятся (первые 3 столбца), в столбце с количеством недвижимости у клиента есть пропуски (доля пропусков 9,1%).  \n",
    "В следующем пункте решим что делать с пропусками и поищем аномалии в данных."
   ]
  },
  {
   "cell_type": "markdown",
   "metadata": {},
   "source": [
    "<a id='3'></a>"
   ]
  },
  {
   "cell_type": "markdown",
   "metadata": {},
   "source": [
    "## 3. Предобработка данных<div align=right>[To top](#top)</div>"
   ]
  },
  {
   "cell_type": "markdown",
   "metadata": {},
   "source": [
    "### Приведем названия признаков к нижнему регистру"
   ]
  },
  {
   "cell_type": "code",
   "execution_count": 3,
   "metadata": {},
   "outputs": [
    {
     "data": {
      "text/plain": [
       "Index(['rownumber', 'customerid', 'surname', 'creditscore', 'geography',\n",
       "       'gender', 'age', 'tenure', 'balance', 'numofproducts', 'hascrcard',\n",
       "       'isactivemember', 'estimatedsalary', 'exited'],\n",
       "      dtype='object')"
      ]
     },
     "execution_count": 3,
     "metadata": {},
     "output_type": "execute_result"
    }
   ],
   "source": [
    "df.columns = df.columns.str.lower()\n",
    "df.columns"
   ]
  },
  {
   "cell_type": "markdown",
   "metadata": {},
   "source": [
    "### Проверка на отрицательные значения"
   ]
  },
  {
   "cell_type": "code",
   "execution_count": 4,
   "metadata": {},
   "outputs": [
    {
     "name": "stdout",
     "output_type": "stream",
     "text": [
      "|rownumber           | Нет|\n",
      "|customerid          | Нет|\n",
      "|creditscore         | Нет|\n",
      "|age                 | Нет|\n",
      "|tenure              | Нет|\n",
      "|balance             | Нет|\n",
      "|numofproducts       | Нет|\n",
      "|hascrcard           | Нет|\n",
      "|isactivemember      | Нет|\n",
      "|estimatedsalary     | Нет|\n",
      "|exited              | Нет|\n"
     ]
    }
   ],
   "source": [
    "for column_name in df.dtypes.index:\n",
    "    \n",
    "    if df[column_name].dtypes=='int64' or df[column_name].dtypes=='float64':\n",
    "        \n",
    "        if df[df[column_name] < 0][column_name].count() > 0:\n",
    "            print('|{: <20}|{: >4}|'.format(column_name, 'Есть'))\n",
    "        else:\n",
    "            print('|{: <20}|{: >4}|'.format(column_name, 'Нет'))"
   ]
  },
  {
   "cell_type": "markdown",
   "metadata": {},
   "source": [
    "### Проверка на дубликаты"
   ]
  },
  {
   "cell_type": "code",
   "execution_count": 5,
   "metadata": {},
   "outputs": [
    {
     "data": {
      "text/plain": [
       "0"
      ]
     },
     "execution_count": 5,
     "metadata": {},
     "output_type": "execute_result"
    }
   ],
   "source": [
    "df.duplicated().sum()"
   ]
  },
  {
   "cell_type": "markdown",
   "metadata": {},
   "source": [
    "Дубликатов нет."
   ]
  },
  {
   "cell_type": "markdown",
   "metadata": {},
   "source": [
    "### Удалим ненужные признаки\n",
    "Первые три столбца не несут никакой смысловой нагрузки для нашей задачи. Поэтому отбросим их."
   ]
  },
  {
   "cell_type": "code",
   "execution_count": 6,
   "metadata": {},
   "outputs": [
    {
     "data": {
      "text/html": [
       "<div>\n",
       "<style scoped>\n",
       "    .dataframe tbody tr th:only-of-type {\n",
       "        vertical-align: middle;\n",
       "    }\n",
       "\n",
       "    .dataframe tbody tr th {\n",
       "        vertical-align: top;\n",
       "    }\n",
       "\n",
       "    .dataframe thead th {\n",
       "        text-align: right;\n",
       "    }\n",
       "</style>\n",
       "<table border=\"1\" class=\"dataframe\">\n",
       "  <thead>\n",
       "    <tr style=\"text-align: right;\">\n",
       "      <th></th>\n",
       "      <th>creditscore</th>\n",
       "      <th>geography</th>\n",
       "      <th>gender</th>\n",
       "      <th>age</th>\n",
       "      <th>tenure</th>\n",
       "      <th>balance</th>\n",
       "      <th>numofproducts</th>\n",
       "      <th>hascrcard</th>\n",
       "      <th>isactivemember</th>\n",
       "      <th>estimatedsalary</th>\n",
       "      <th>exited</th>\n",
       "    </tr>\n",
       "  </thead>\n",
       "  <tbody>\n",
       "    <tr>\n",
       "      <td>0</td>\n",
       "      <td>619</td>\n",
       "      <td>France</td>\n",
       "      <td>Female</td>\n",
       "      <td>42</td>\n",
       "      <td>2.0</td>\n",
       "      <td>0.00</td>\n",
       "      <td>1</td>\n",
       "      <td>1</td>\n",
       "      <td>1</td>\n",
       "      <td>101348.88</td>\n",
       "      <td>1</td>\n",
       "    </tr>\n",
       "    <tr>\n",
       "      <td>1</td>\n",
       "      <td>608</td>\n",
       "      <td>Spain</td>\n",
       "      <td>Female</td>\n",
       "      <td>41</td>\n",
       "      <td>1.0</td>\n",
       "      <td>83807.86</td>\n",
       "      <td>1</td>\n",
       "      <td>0</td>\n",
       "      <td>1</td>\n",
       "      <td>112542.58</td>\n",
       "      <td>0</td>\n",
       "    </tr>\n",
       "  </tbody>\n",
       "</table>\n",
       "</div>"
      ],
      "text/plain": [
       "   creditscore geography  gender  age  tenure   balance  numofproducts  \\\n",
       "0          619    France  Female   42     2.0      0.00              1   \n",
       "1          608     Spain  Female   41     1.0  83807.86              1   \n",
       "\n",
       "   hascrcard  isactivemember  estimatedsalary  exited  \n",
       "0          1               1        101348.88       1  \n",
       "1          0               1        112542.58       0  "
      ]
     },
     "execution_count": 6,
     "metadata": {},
     "output_type": "execute_result"
    }
   ],
   "source": [
    "df = df.drop(['rownumber', 'customerid', 'surname'], axis=1)\n",
    "df.head(2)"
   ]
  },
  {
   "cell_type": "markdown",
   "metadata": {},
   "source": [
    "### Обработка пропусков"
   ]
  },
  {
   "cell_type": "markdown",
   "metadata": {},
   "source": [
    "Т.к. пропусков не настолько много, чтобы отбросить весь признак, надо решить как с ними поступать. Впринципе будет не критично если удалить все пропуски.\n",
    "\n",
    "Я решил попробовать заполнить средним/медианой. А в конце работы попробовать удалить пропуски и сравнить какой метод тут был бы лучше.\n",
    "\n",
    "Чтобы выбрать чем заполнять пропуски посмотрим на статистическое описание данного столбца:"
   ]
  },
  {
   "cell_type": "code",
   "execution_count": 7,
   "metadata": {},
   "outputs": [],
   "source": [
    "# но сначала зарезервируем копию датасета для второго случая\n",
    "\n",
    "df_delmissing = df.copy()"
   ]
  },
  {
   "cell_type": "code",
   "execution_count": 8,
   "metadata": {},
   "outputs": [
    {
     "data": {
      "text/plain": [
       "count    9091.000000\n",
       "mean        4.997690\n",
       "std         2.894723\n",
       "min         0.000000\n",
       "25%         2.000000\n",
       "50%         5.000000\n",
       "75%         7.000000\n",
       "max        10.000000\n",
       "Name: tenure, dtype: float64"
      ]
     },
     "execution_count": 8,
     "metadata": {},
     "output_type": "execute_result"
    }
   ],
   "source": [
    "df['tenure'].describe()"
   ]
  },
  {
   "cell_type": "markdown",
   "metadata": {},
   "source": [
    "Среднее и медиана практически равны. Возьмем медиану для ровного счета."
   ]
  },
  {
   "cell_type": "code",
   "execution_count": 9,
   "metadata": {},
   "outputs": [
    {
     "name": "stdout",
     "output_type": "stream",
     "text": [
      "<class 'pandas.core.frame.DataFrame'>\n",
      "RangeIndex: 10000 entries, 0 to 9999\n",
      "Data columns (total 11 columns):\n",
      "creditscore        10000 non-null int64\n",
      "geography          10000 non-null object\n",
      "gender             10000 non-null object\n",
      "age                10000 non-null int64\n",
      "tenure             10000 non-null float64\n",
      "balance            10000 non-null float64\n",
      "numofproducts      10000 non-null int64\n",
      "hascrcard          10000 non-null int64\n",
      "isactivemember     10000 non-null int64\n",
      "estimatedsalary    10000 non-null float64\n",
      "exited             10000 non-null int64\n",
      "dtypes: float64(3), int64(6), object(2)\n",
      "memory usage: 859.5+ KB\n"
     ]
    }
   ],
   "source": [
    "df['tenure'] = df['tenure'].fillna(df['tenure'].median())\n",
    "df.info()"
   ]
  },
  {
   "cell_type": "markdown",
   "metadata": {},
   "source": [
    "<a id='4'></a>"
   ]
  },
  {
   "cell_type": "markdown",
   "metadata": {},
   "source": [
    "## 4. Подготовка признаков<div align=right>[To top](#top)</div>"
   ]
  },
  {
   "cell_type": "markdown",
   "metadata": {},
   "source": [
    "### Построение распределений\n",
    "\n",
    "Для того, чтобы модели работали, необходимо привести все признаки к числовому типу.  \n",
    "У нас имеются два категориальных признака это `geography` и `gender`.\n",
    "\n",
    "Для начала хотелось бы посмотреть как распределены наши признаки. Построим распределения с помощью гистограмм.  \n",
    "Для этого нужно закодировать наши категориальные признаки.\n",
    "\n",
    "При one-hot кодировании, для каждого значения признака  создаётся столбец, и в эти столбцы записывается ноль или единица в зависимости от того, какое значение признак имеет на этой строке. Новые признаки называются дамми-переменными, или **дамми-признаками** (англ. dummy variable, «фиктивная переменная»). При построении гистограмм этот метод не очень удобен, так как распределение категориального признака получается на нескольких изображениях, а хотелось бы видеть распределение одного признака на одном графике.\n",
    "\n",
    "Поэтому для построения распределений используем простой кодировщик из библиотеки sklearn - **LabelEncoder()**. Он каждой категории сопоставляет некоторое целое число."
   ]
  },
  {
   "cell_type": "code",
   "execution_count": 10,
   "metadata": {},
   "outputs": [
    {
     "data": {
      "text/html": [
       "<div>\n",
       "<style scoped>\n",
       "    .dataframe tbody tr th:only-of-type {\n",
       "        vertical-align: middle;\n",
       "    }\n",
       "\n",
       "    .dataframe tbody tr th {\n",
       "        vertical-align: top;\n",
       "    }\n",
       "\n",
       "    .dataframe thead th {\n",
       "        text-align: right;\n",
       "    }\n",
       "</style>\n",
       "<table border=\"1\" class=\"dataframe\">\n",
       "  <thead>\n",
       "    <tr style=\"text-align: right;\">\n",
       "      <th></th>\n",
       "      <th>creditscore</th>\n",
       "      <th>age</th>\n",
       "      <th>tenure</th>\n",
       "      <th>balance</th>\n",
       "      <th>numofproducts</th>\n",
       "      <th>hascrcard</th>\n",
       "      <th>isactivemember</th>\n",
       "      <th>estimatedsalary</th>\n",
       "      <th>exited</th>\n",
       "      <th>le_geo</th>\n",
       "      <th>le_gender</th>\n",
       "    </tr>\n",
       "  </thead>\n",
       "  <tbody>\n",
       "    <tr>\n",
       "      <td>0</td>\n",
       "      <td>619</td>\n",
       "      <td>42</td>\n",
       "      <td>2.0</td>\n",
       "      <td>0.00</td>\n",
       "      <td>1</td>\n",
       "      <td>1</td>\n",
       "      <td>1</td>\n",
       "      <td>101348.88</td>\n",
       "      <td>1</td>\n",
       "      <td>0</td>\n",
       "      <td>0</td>\n",
       "    </tr>\n",
       "    <tr>\n",
       "      <td>1</td>\n",
       "      <td>608</td>\n",
       "      <td>41</td>\n",
       "      <td>1.0</td>\n",
       "      <td>83807.86</td>\n",
       "      <td>1</td>\n",
       "      <td>0</td>\n",
       "      <td>1</td>\n",
       "      <td>112542.58</td>\n",
       "      <td>0</td>\n",
       "      <td>2</td>\n",
       "      <td>0</td>\n",
       "    </tr>\n",
       "    <tr>\n",
       "      <td>2</td>\n",
       "      <td>502</td>\n",
       "      <td>42</td>\n",
       "      <td>8.0</td>\n",
       "      <td>159660.80</td>\n",
       "      <td>3</td>\n",
       "      <td>1</td>\n",
       "      <td>0</td>\n",
       "      <td>113931.57</td>\n",
       "      <td>1</td>\n",
       "      <td>0</td>\n",
       "      <td>0</td>\n",
       "    </tr>\n",
       "    <tr>\n",
       "      <td>3</td>\n",
       "      <td>699</td>\n",
       "      <td>39</td>\n",
       "      <td>1.0</td>\n",
       "      <td>0.00</td>\n",
       "      <td>2</td>\n",
       "      <td>0</td>\n",
       "      <td>0</td>\n",
       "      <td>93826.63</td>\n",
       "      <td>0</td>\n",
       "      <td>0</td>\n",
       "      <td>0</td>\n",
       "    </tr>\n",
       "    <tr>\n",
       "      <td>4</td>\n",
       "      <td>850</td>\n",
       "      <td>43</td>\n",
       "      <td>2.0</td>\n",
       "      <td>125510.82</td>\n",
       "      <td>1</td>\n",
       "      <td>1</td>\n",
       "      <td>1</td>\n",
       "      <td>79084.10</td>\n",
       "      <td>0</td>\n",
       "      <td>2</td>\n",
       "      <td>0</td>\n",
       "    </tr>\n",
       "  </tbody>\n",
       "</table>\n",
       "</div>"
      ],
      "text/plain": [
       "   creditscore  age  tenure    balance  numofproducts  hascrcard  \\\n",
       "0          619   42     2.0       0.00              1          1   \n",
       "1          608   41     1.0   83807.86              1          0   \n",
       "2          502   42     8.0  159660.80              3          1   \n",
       "3          699   39     1.0       0.00              2          0   \n",
       "4          850   43     2.0  125510.82              1          1   \n",
       "\n",
       "   isactivemember  estimatedsalary  exited  le_geo  le_gender  \n",
       "0               1        101348.88       1       0          0  \n",
       "1               1        112542.58       0       2          0  \n",
       "2               0        113931.57       1       0          0  \n",
       "3               0         93826.63       0       0          0  \n",
       "4               1         79084.10       0       2          0  "
      ]
     },
     "execution_count": 10,
     "metadata": {},
     "output_type": "execute_result"
    }
   ],
   "source": [
    "# сделаем копию датафрейма\n",
    "df_hist = df.copy()\n",
    "\n",
    "le = LabelEncoder()\n",
    "\n",
    "# с помощью метода fit_transform сразу обучим и преобразуем наши признаки\n",
    "df_hist['le_geo'] = le.fit_transform(df['geography'])\n",
    "df_hist['le_gender'] = le.fit_transform(df['gender'])\n",
    "\n",
    "# удалим теперь уже не нужные категориальные признаки\n",
    "# предварительно заметив какое число какому значению присвоил кодировщик\n",
    "df_hist = df_hist.drop(['geography', 'gender'], axis=1)\n",
    "\n",
    "df_hist.head()"
   ]
  },
  {
   "cell_type": "code",
   "execution_count": 11,
   "metadata": {
    "scrolled": false
   },
   "outputs": [
    {
     "data": {
      "image/png": "[encoded data removed]",
      "text/plain": [
       "<Figure size 720x4320 with 11 Axes>"
      ]
     },
     "metadata": {
      "needs_background": "light"
     },
     "output_type": "display_data"
    }
   ],
   "source": [
    "# строим распределения, всего у нас получилось 11 признаков\n",
    "\n",
    "fig, subplots = plt.subplots(nrows=11, ncols=1, figsize=(10, 60))\n",
    "\n",
    "columns = df_hist.columns\n",
    "i = -1\n",
    "for ax in fig.axes:\n",
    "    i += 1\n",
    "    ax.hist(df_hist[columns[i]], bins=100)\n",
    "    \n",
    "    ax.set_title(columns[i], fontsize=18, fontweight=\"bold\")\n",
    "    ax.set_xlabel('values of ' + columns[i], fontsize=14)\n",
    "    ax.set_ylabel('frequency', fontsize=14)\n",
    "    \n",
    "    # добавим на график обозначения кодировок\n",
    "    if columns[i] == 'le_geo':\n",
    "        ax.text(0.76, 3900, '0 - France\\n1 - Germany\\n2 - Spain', fontsize=14)\n",
    "    elif columns[i] == 'le_gender':\n",
    "        ax.text(0.4, 4500, '0 - Female\\n1 - Male', fontsize=14)\n",
    "            \n",
    "plt.tight_layout(h_pad = 5)"
   ]
  },
  {
   "cell_type": "markdown",
   "metadata": {},
   "source": [
    "Что можем сказать по этим распределениям:\n",
    " * Признаки `creditscore`, `age`, `tenure` и `balance` распределены боле-менее нормально. У `balance` много нулевых значений, выглядит подозрительно, но с другой стороны возможно правила банка не запрещают быть их клиентом и при этом не хранить деньги на счете. Такие клиенты могут пользоваться другими услугами банка. У `creditscore` тоже наблюдается резкий скачок значений при максимальном значении рейтинга.\n",
    " * Распределение признака`estimatedsalary` можно назвать скорее равномерным чем нормальным.\n",
    " * Большинство клиентов пользуются одной или двумя услугами банка.\n",
    " * Больше половины клиентов имеют кредитные карточки.\n",
    " * Активные и не активные клиенты делятся примерно поровну.\n",
    " * Факт ухода из банка зафиксирован у двух с небольшим тысяч клиентов. Налицо дисбаланс классов.\n",
    " * Клиенты из Франции составляют половину всех данных. Германия и Испания делят вторую половину данных пополам.\n",
    " * По половому признаку видим, что мужчин среди клиентов на одну тысячу больше чем женщин."
   ]
  },
  {
   "cell_type": "markdown",
   "metadata": {},
   "source": [
    "### Кодирование признаков для обучения и разделение данных\n",
    "\n",
    "Чтобы закодировать признаки для обучения моделей применим one-hot кодирование описанное выше. При таком кодировании создаются отличные условия для мультиколлинеарности, т.к. вновь созданные признаки сильно коррелируют друг с другом. Чтобы минимизировать этот факт мы применим аргумент `drop_first=True`, который удаляет каждый первый столбец из группы вновь созданных признаков."
   ]
  },
  {
   "cell_type": "code",
   "execution_count": 12,
   "metadata": {},
   "outputs": [
    {
     "data": {
      "text/html": [
       "<div>\n",
       "<style scoped>\n",
       "    .dataframe tbody tr th:only-of-type {\n",
       "        vertical-align: middle;\n",
       "    }\n",
       "\n",
       "    .dataframe tbody tr th {\n",
       "        vertical-align: top;\n",
       "    }\n",
       "\n",
       "    .dataframe thead th {\n",
       "        text-align: right;\n",
       "    }\n",
       "</style>\n",
       "<table border=\"1\" class=\"dataframe\">\n",
       "  <thead>\n",
       "    <tr style=\"text-align: right;\">\n",
       "      <th></th>\n",
       "      <th>creditscore</th>\n",
       "      <th>age</th>\n",
       "      <th>tenure</th>\n",
       "      <th>balance</th>\n",
       "      <th>numofproducts</th>\n",
       "      <th>hascrcard</th>\n",
       "      <th>isactivemember</th>\n",
       "      <th>estimatedsalary</th>\n",
       "      <th>exited</th>\n",
       "      <th>geography_Germany</th>\n",
       "      <th>geography_Spain</th>\n",
       "      <th>gender_Male</th>\n",
       "    </tr>\n",
       "  </thead>\n",
       "  <tbody>\n",
       "    <tr>\n",
       "      <td>0</td>\n",
       "      <td>619</td>\n",
       "      <td>42</td>\n",
       "      <td>2.0</td>\n",
       "      <td>0.00</td>\n",
       "      <td>1</td>\n",
       "      <td>1</td>\n",
       "      <td>1</td>\n",
       "      <td>101348.88</td>\n",
       "      <td>1</td>\n",
       "      <td>0</td>\n",
       "      <td>0</td>\n",
       "      <td>0</td>\n",
       "    </tr>\n",
       "    <tr>\n",
       "      <td>1</td>\n",
       "      <td>608</td>\n",
       "      <td>41</td>\n",
       "      <td>1.0</td>\n",
       "      <td>83807.86</td>\n",
       "      <td>1</td>\n",
       "      <td>0</td>\n",
       "      <td>1</td>\n",
       "      <td>112542.58</td>\n",
       "      <td>0</td>\n",
       "      <td>0</td>\n",
       "      <td>1</td>\n",
       "      <td>0</td>\n",
       "    </tr>\n",
       "  </tbody>\n",
       "</table>\n",
       "</div>"
      ],
      "text/plain": [
       "   creditscore  age  tenure   balance  numofproducts  hascrcard  \\\n",
       "0          619   42     2.0      0.00              1          1   \n",
       "1          608   41     1.0  83807.86              1          0   \n",
       "\n",
       "   isactivemember  estimatedsalary  exited  geography_Germany  \\\n",
       "0               1        101348.88       1                  0   \n",
       "1               1        112542.58       0                  0   \n",
       "\n",
       "   geography_Spain  gender_Male  \n",
       "0                0            0  \n",
       "1                1            0  "
      ]
     },
     "execution_count": 12,
     "metadata": {},
     "output_type": "execute_result"
    }
   ],
   "source": [
    "df = pd.get_dummies(df, drop_first=True)\n",
    "df.head(2)"
   ]
  },
  {
   "cell_type": "markdown",
   "metadata": {},
   "source": [
    "\n",
    "Перед масштабированием признаков необходимо разделить данные на обучающую, валидационную и тестовую выборки. Сделаем это с помощью функции **train_test_split** из библиотеки sklearn. Данные разделим в соотношении 60:20:20."
   ]
  },
  {
   "cell_type": "code",
   "execution_count": 13,
   "metadata": {},
   "outputs": [],
   "source": [
    "# сначала делаим на обучающую и проверочную\n",
    "df_train, df_check = train_test_split(df, test_size=0.4, random_state=237)\n",
    "\n",
    "# далее проверочную разделим на валидационную и тестовую\n",
    "df_valid, df_test = train_test_split(df_check, test_size=0.5, random_state=237)"
   ]
  },
  {
   "cell_type": "code",
   "execution_count": 14,
   "metadata": {},
   "outputs": [
    {
     "name": "stdout",
     "output_type": "stream",
     "text": [
      "train (6000, 12)\n",
      "valid (2000, 12)\n",
      "test (2000, 12)\n"
     ]
    }
   ],
   "source": [
    "# контроль размера выборок\n",
    "\n",
    "print('train', df_train.shape)\n",
    "print('valid', df_valid.shape)\n",
    "print('test', df_test.shape)"
   ]
  },
  {
   "cell_type": "markdown",
   "metadata": {},
   "source": [
    "Объявим новые переменные `features` и `target`, в которых будут признаки и целевой признак соответственно:"
   ]
  },
  {
   "cell_type": "code",
   "execution_count": 15,
   "metadata": {},
   "outputs": [],
   "source": [
    "# признаки\n",
    "features_train = df_train.drop('exited', axis=1)\n",
    "features_valid = df_valid.drop('exited', axis=1)\n",
    "features_test = df_test.drop('exited', axis=1)\n",
    "\n",
    "# целевые признаки\n",
    "target_train = df_train['exited']\n",
    "target_valid = df_valid['exited']\n",
    "target_test = df_test['exited']"
   ]
  },
  {
   "cell_type": "markdown",
   "metadata": {},
   "source": [
    "### Масштабирование признаков\n",
    "Чтобы у модели не было \"любимчиков\" среди признаков, т.е. чтобы она учитывала все признаки как важные, необходимо масштабировать признаки. Тогда числа в признаках будут иметь диапазон значений от -1 до 1 со средним равным нулю.  \n",
    "Распределения большей части наших признаков приближены к нормальному. Поэтому для масштабирования применим стандартизацию, которая хорошо работает с данными распределенными нормально, и хуже, но все таки работает, масштабирует данные с ненормальным распределением.\n",
    "\n",
    "Для этого в библиотеке sklearn усть функция **StandardScaler()**. Обучим ее на обучающей выборке и затем трансформируем остальные."
   ]
  },
  {
   "cell_type": "code",
   "execution_count": 16,
   "metadata": {},
   "outputs": [],
   "source": [
    "numeric = ['creditscore', 'age', 'tenure', 'balance', 'estimatedsalary']"
   ]
  },
  {
   "cell_type": "code",
   "execution_count": 17,
   "metadata": {},
   "outputs": [
    {
     "data": {
      "text/plain": [
       "StandardScaler(copy=True, with_mean=True, with_std=True)"
      ]
     },
     "execution_count": 17,
     "metadata": {},
     "output_type": "execute_result"
    }
   ],
   "source": [
    "# создадим объект этой структуры\n",
    "scaler = StandardScaler()\n",
    "\n",
    "# настроим его на обучающих данных\n",
    "scaler.fit(features_train[numeric])"
   ]
  },
  {
   "cell_type": "code",
   "execution_count": 18,
   "metadata": {},
   "outputs": [],
   "source": [
    "# преобразуем выборки методом transform()\n",
    "\n",
    "features_train[numeric] = scaler.transform(features_train[numeric])\n",
    "features_valid[numeric] = scaler.transform(features_valid[numeric])\n",
    "features_test[numeric] = scaler.transform(features_test[numeric])"
   ]
  },
  {
   "cell_type": "markdown",
   "metadata": {},
   "source": [
    "<a id='5'></a>"
   ]
  },
  {
   "cell_type": "markdown",
   "metadata": {},
   "source": [
    "## 5. Несбалансированные данные<div align=right>[To top](#top)</div>"
   ]
  },
  {
   "cell_type": "markdown",
   "metadata": {},
   "source": [
    "Как раньше мы уже выяснили у нас наблюдается дисбаланс классов целевого признака:"
   ]
  },
  {
   "cell_type": "code",
   "execution_count": 19,
   "metadata": {},
   "outputs": [
    {
     "data": {
      "image/png": "[encoded data removed]",
      "text/plain": [
       "<Figure size 432x288 with 1 Axes>"
      ]
     },
     "metadata": {
      "needs_background": "light"
     },
     "output_type": "display_data"
    }
   ],
   "source": [
    "class_frequency = df['exited'].value_counts(normalize=True)\n",
    "class_frequency.plot(kind='bar', title='Баланс классов целевого признака')\n",
    "plt.ylabel('Доля')\n",
    "\n",
    "plt.show()"
   ]
  },
  {
   "cell_type": "markdown",
   "metadata": {},
   "source": [
    "Всего около 20% положительных ответов."
   ]
  },
  {
   "cell_type": "markdown",
   "metadata": {},
   "source": [
    "Попробуем сначала обучить модели сохранив этот дисбаланс и посмотрим что покажет нам метрика.\n",
    "\n",
    "В качестве метрики будем использовать **F1-меру**. F1-мера это агрегирующая метрика, которая помогает контролировать параллельно две другие метрики, такие как полнота и точность (recall и precision)."
   ]
  },
  {
   "cell_type": "markdown",
   "metadata": {},
   "source": [
    "### Решающее дерево"
   ]
  },
  {
   "cell_type": "code",
   "execution_count": 20,
   "metadata": {},
   "outputs": [
    {
     "name": "stdout",
     "output_type": "stream",
     "text": [
      "Максимальное F1 0.5872 при max_depth = 7\n"
     ]
    }
   ],
   "source": [
    "# nb - not balanced\n",
    "\n",
    "f1_tree_nb_list = []\n",
    "\n",
    "for md_tree_nb in range(2, 16):\n",
    "    model_tree_nb = DecisionTreeClassifier(max_depth=md_tree_nb, random_state=237)\n",
    "    model_tree_nb.fit(features_train, target_train)\n",
    "    predictions_tree_nb = model_tree_nb.predict(features_valid)\n",
    "    \n",
    "    f1_tree_nb = round(f1_score(target_valid, predictions_tree_nb), 4)\n",
    "    \n",
    "    f1_tree_nb_list.append(f1_tree_nb)\n",
    "    \n",
    "print('Максимальное F1', max(f1_tree_nb_list), 'при max_depth =', np.argmax(f1_tree_nb_list)+2)"
   ]
  },
  {
   "cell_type": "markdown",
   "metadata": {},
   "source": [
    "### Случайный лес\n",
    "\n",
    "Разобьем рассчеты на два этапа чтобы съэкономить время:\n",
    " 1. Сначала переберем в цикле максимальную глубину при количестве деревьев равным 20.\n",
    " 2. На втором шаге глубину дерева, показавшую наилучший результат, зафиксируем и при этой глубине переберем количество деревьев."
   ]
  },
  {
   "cell_type": "code",
   "execution_count": 21,
   "metadata": {
    "scrolled": true
   },
   "outputs": [
    {
     "name": "stdout",
     "output_type": "stream",
     "text": [
      "Максимальное F1 0.6075 при max_depth = 20 и n_estimators = 25\n"
     ]
    }
   ],
   "source": [
    "# rf - random forest\n",
    "\n",
    "f1_rf_nb_list = []\n",
    "for md_rf_nb in range(2, 21):\n",
    "    model_rf_nb = RandomForestClassifier(n_estimators=20, max_depth=md_rf_nb, random_state=237)\n",
    "    model_rf_nb.fit(features_train, target_train)\n",
    "    prediction_rf_nb = model_rf_nb.predict(features_valid)\n",
    "    \n",
    "    f1_rf_nb = round(f1_score(target_valid, prediction_rf_nb), 4)\n",
    "    \n",
    "    f1_rf_nb_list.append(f1_rf_nb)\n",
    "    \n",
    "max_depth1 = np.argmax(f1_rf_nb_list)+2\n",
    "    \n",
    "f1_rf_nb_list_ne = []\n",
    "for ne_rf_nb in range(2, 151):\n",
    "    model_rf_nb_ne = RandomForestClassifier(max_depth=max_depth1, n_estimators=ne_rf_nb, random_state=237)\n",
    "    model_rf_nb_ne.fit(features_train, target_train)\n",
    "    prediction_rf_nb_ne = model_rf_nb_ne.predict(features_valid)\n",
    "    \n",
    "    f1_rf_nb_ne = round(f1_score(target_valid, prediction_rf_nb_ne), 4)\n",
    "    f1_rf_nb_list_ne.append(f1_rf_nb_ne)\n",
    "\n",
    "print('Максимальное F1', max(f1_rf_nb_list_ne), 'при max_depth =', max_depth1,\n",
    "      'и n_estimators =', np.argmax(f1_rf_nb_list_ne)+2)"
   ]
  },
  {
   "cell_type": "markdown",
   "metadata": {},
   "source": [
    "### Логистическая регрессия"
   ]
  },
  {
   "cell_type": "code",
   "execution_count": 22,
   "metadata": {},
   "outputs": [
    {
     "name": "stdout",
     "output_type": "stream",
     "text": [
      "F1 0.3091\n"
     ]
    }
   ],
   "source": [
    "# lr - logistic regression\n",
    "\n",
    "model_lr_nb = LogisticRegression(random_state=237, solver='lbfgs')\n",
    "model_lr_nb.fit(features_train, target_train)\n",
    "prediction_lr_nb = model_lr_nb.predict(features_valid)\n",
    "\n",
    "f1_lr_nb = round(f1_score(target_valid, prediction_lr_nb), 4)\n",
    "\n",
    "print('F1', f1_lr_nb)"
   ]
  },
  {
   "cell_type": "markdown",
   "metadata": {},
   "source": [
    "Лучший результат у модели \"Случайный лес\": F1-мера равна 0,6075. Но без проверки модели на адекватность нельзя сказать насколько полученный нами результат хорош.\n",
    "\n",
    "Выполним проверку путем создания константной модели, которая каждому объекту предсказывает единицу."
   ]
  },
  {
   "cell_type": "code",
   "execution_count": 23,
   "metadata": {},
   "outputs": [
    {
     "name": "stdout",
     "output_type": "stream",
     "text": [
      "0.3382\n"
     ]
    }
   ],
   "source": [
    "target_pred_constant = pd.Series(data=1, index=range(0, len(target_valid)))\n",
    "\n",
    "f1_target_pred_constant = round(f1_score(target_valid, target_pred_constant), 4)\n",
    "print(f1_target_pred_constant)"
   ]
  },
  {
   "cell_type": "markdown",
   "metadata": {},
   "source": [
    "Т.к. положительных ответов в target_valid немного, то, соответственно, и пороговая F1-мера невысокая. Но мы видим, что лигстической регрессии значение F1-меры ниже пороговой."
   ]
  },
  {
   "cell_type": "markdown",
   "metadata": {},
   "source": [
    "<a id='6'></a>"
   ]
  },
  {
   "cell_type": "markdown",
   "metadata": {},
   "source": [
    "## 6. Cбалансированные данные<div align=right>[To top](#top)</div>"
   ]
  },
  {
   "cell_type": "markdown",
   "metadata": {},
   "source": [
    "### Логистическая регрессия"
   ]
  },
  {
   "cell_type": "markdown",
   "metadata": {},
   "source": [
    "Попробуем улучшить качетсво логистической регрессии и остальных моделей учитывая дисбаланс классов в целевом признаке.\n",
    "\n",
    "Чтобы сделать объекты редкого класса не такими редкими воспользуемся техникой **upsampling**. Смысл техники в том, чтобы увеличить долю редкого класса в выборке путем его копирования.\n",
    "\n",
    "Т.к. в нашей выборке редким классом являются положительные ответы, то их и будем копировать.  \n",
    "Преобразование проходит в несколько этапов:\n",
    " * Разделить обучающую выборку на отрицательные и положительные объекты;\n",
    " * Скопировать несколько раз положительные объекты;\n",
    " * С учётом полученных данных создать новую обучающую выборку;\n",
    " * Перемешать данные: идущие друг за другом одинаковые вопросы не помогут обучению.\n",
    "\n",
    "Напишем функцию, которая выполнит все этапы преобразования."
   ]
  },
  {
   "cell_type": "code",
   "execution_count": 24,
   "metadata": {},
   "outputs": [],
   "source": [
    "# объявляем функцию\n",
    "def upsample(features, target, repeat):# repeat - это количество копий редкого класса, которые нужно добавить\n",
    "    \n",
    "    # делим выборку на отрицательные и положительные объекты\n",
    "    features_zeros = features[target==0]\n",
    "    features_ones = features[target==1]\n",
    "    target_zeros = target[target==0]\n",
    "    target_ones = target[target==1]\n",
    "    \n",
    "    # при помощи функции concat из библиотеки pandas объеденим второй и третий пункты преобразования\n",
    "    features_upsampling = pd.concat([features_zeros] + [features_ones] * repeat)\n",
    "    target_upsampling = pd.concat([target_zeros] + [target_ones] * repeat)\n",
    "    \n",
    "    # перемешаем вновь созданные выборки при помощи функции shuffle из библиотеки sklearn\n",
    "    features_upsampling, target_upsampling = shuffle(features_upsampling, target_upsampling, random_state=237)\n",
    "    \n",
    "    return features_upsampling, target_upsampling"
   ]
  },
  {
   "cell_type": "code",
   "execution_count": 25,
   "metadata": {},
   "outputs": [],
   "source": [
    "# преобразуем наши обучающие выборки\n",
    "\n",
    "features_upsampled, target_upsampled = upsample(features_train, target_train, 3)"
   ]
  },
  {
   "cell_type": "markdown",
   "metadata": {},
   "source": [
    "**Я пробовал разные соотношения классов, но при repeat=3 получается лучшее качество**"
   ]
  },
  {
   "cell_type": "code",
   "execution_count": 26,
   "metadata": {},
   "outputs": [
    {
     "data": {
      "image/png": "[encoded data removed]",
      "text/plain": [
       "<Figure size 432x288 with 1 Axes>"
      ]
     },
     "metadata": {
      "needs_background": "light"
     },
     "output_type": "display_data"
    }
   ],
   "source": [
    "# проверим что получилось используя график\n",
    "\n",
    "class_frequency_target_upsampled = target_upsampled.value_counts(normalize=True)\n",
    "class_frequency_target_upsampled.plot(kind='bar', title='Баланс классов целевого признака')\n",
    "plt.ylabel('Доля')\n",
    "\n",
    "plt.show()"
   ]
  },
  {
   "cell_type": "code",
   "execution_count": 27,
   "metadata": {},
   "outputs": [
    {
     "data": {
      "text/plain": [
       "0    0.563327\n",
       "1    0.436673\n",
       "Name: exited, dtype: float64"
      ]
     },
     "execution_count": 27,
     "metadata": {},
     "output_type": "execute_result"
    }
   ],
   "source": [
    "class_frequency_target_upsampled"
   ]
  },
  {
   "cell_type": "markdown",
   "metadata": {},
   "source": [
    "Теперь доли каждого класса более сбалансированны.\n",
    "\n",
    "Попробуем обучить модель регрессии на этих данных и посмотрим как изменится ее качество после этих нововведений."
   ]
  },
  {
   "cell_type": "code",
   "execution_count": 28,
   "metadata": {},
   "outputs": [
    {
     "name": "stdout",
     "output_type": "stream",
     "text": [
      "0.4933\n"
     ]
    }
   ],
   "source": [
    "# b - balanced\n",
    "\n",
    "model_lr_b = LogisticRegression(random_state=237, solver='lbfgs')\n",
    "model_lr_b.fit(features_upsampled, target_upsampled)\n",
    "prediction_lr_b = model_lr_b.predict(features_valid)\n",
    "\n",
    "f1_lr_b = round(f1_score(target_valid, prediction_lr_b), 4)\n",
    "\n",
    "print(f1_lr_b)"
   ]
  },
  {
   "cell_type": "markdown",
   "metadata": {},
   "source": [
    "Как можно заметить качество модели заметно повысилось после применения техники upsampling():"
   ]
  },
  {
   "cell_type": "code",
   "execution_count": 29,
   "metadata": {},
   "outputs": [
    {
     "data": {
      "image/png": "[encoded data removed]",
      "text/plain": [
       "<Figure size 504x360 with 1 Axes>"
      ]
     },
     "metadata": {
      "needs_background": "light"
     },
     "output_type": "display_data"
    }
   ],
   "source": [
    "x = [1, 2]\n",
    "y_lr_nb_b = [f1_lr_nb, f1_lr_b]\n",
    "\n",
    "fig, ax = plt.subplots(figsize=(7, 5))\n",
    "ax.bar(x, y_lr_nb_b, width=0.3, tick_label=['data not balanced', 'data balanced'])\n",
    "\n",
    "ax.set_title('Изменение качества логистической регрессии')\n",
    "ax.set_ylabel('F1-мера')\n",
    "\n",
    "plt.show()"
   ]
  },
  {
   "cell_type": "markdown",
   "metadata": {},
   "source": [
    "Попробуем ввести еще одну метрику для проверки качества модели - **AUC-ROC**.\n",
    "\n",
    "Она определяется как площадь под кривой ROC, построенной по значениям  TPR и FPR. TPR и FPR это доли истинно положительных и ложно положительных ответов соответственно.\n",
    "\n",
    "ROC-кривая показывает зависимость TPR от FPR при варьировании порога классификации. Если представить, что модель с определенной вероятностью предсказывает нули и единицы, то если, например, увеличить вероятность предсказания единицы => будем получать больше единиц и меньше нулей. Варьирование порога классификации - это и есть изменение вероятности предсказания того или иного класса.\n",
    "\n",
    "Порог классификации изменяется от 0 до 1. По умолчанию порог равен 0,5. Посмотреть вероятности классов объектов можно с помощью функции predict_proba():"
   ]
  },
  {
   "cell_type": "code",
   "execution_count": 30,
   "metadata": {},
   "outputs": [
    {
     "data": {
      "text/plain": [
       "array([[0.81370979, 0.18629021],\n",
       "       [0.27347494, 0.72652506],\n",
       "       [0.79900533, 0.20099467],\n",
       "       [0.81337582, 0.18662418],\n",
       "       [0.68429453, 0.31570547]])"
      ]
     },
     "execution_count": 30,
     "metadata": {},
     "output_type": "execute_result"
    }
   ],
   "source": [
    "probabilities_valid_lr_b = model_lr_b.predict_proba(features_valid)\n",
    "\n",
    "# просмотрим первые 5\n",
    "probabilities_valid_lr_b[:5]"
   ]
  },
  {
   "cell_type": "markdown",
   "metadata": {},
   "source": [
    "Если изменить порог в меньшую сторону, то модель повысит вероятность принадлежности объекта к классу 1 и наоборот.\n",
    "\n",
    "Попробуем построить кривую ошибок для нашей модели. Построить ROC-кривую поможет функция roc_curve(). На вход она принимает значения целевого признака и вероятности положительного класса. Перебирает разные пороги и возвращает три списка: значения FPR, значения TPR и рассмотренные пороги."
   ]
  },
  {
   "cell_type": "code",
   "execution_count": 31,
   "metadata": {},
   "outputs": [
    {
     "data": {
      "text/plain": [
       "array([0.18629021, 0.72652506, 0.20099467, 0.18662418, 0.31570547])"
      ]
     },
     "execution_count": 31,
     "metadata": {},
     "output_type": "execute_result"
    }
   ],
   "source": [
    "probabilities_one_valid_lr_b = probabilities_valid_lr_b[:, 1]\n",
    "\n",
    "# просмотрим первые 5\n",
    "probabilities_one_valid_lr_b[:5]"
   ]
  },
  {
   "cell_type": "code",
   "execution_count": 32,
   "metadata": {},
   "outputs": [],
   "source": [
    "# определяем переменные\n",
    "\n",
    "fpr_lr_b, tpr_lr_b, thresholds_lr_b = roc_curve(target_valid, probabilities_one_valid_lr_b)"
   ]
  },
  {
   "cell_type": "code",
   "execution_count": 33,
   "metadata": {},
   "outputs": [
    {
     "data": {
      "image/png": "[encoded data removed]",
      "text/plain": [
       "<Figure size 720x504 with 1 Axes>"
      ]
     },
     "metadata": {
      "needs_background": "light"
     },
     "output_type": "display_data"
    }
   ],
   "source": [
    "# строим ROC-кривую\n",
    "\n",
    "plt.figure(figsize=(10, 7))\n",
    "\n",
    "# ROC-кривая нашей модели\n",
    "plt.plot(fpr_lr_b, tpr_lr_b, '-')\n",
    "\n",
    "# ROC-кривая случайной модели\n",
    "plt.plot([0, 1], [0, 1], linestyle='--')\n",
    "\n",
    "plt.xlim(0, 1)\n",
    "plt.ylim(0, 1)\n",
    "\n",
    "plt.xlabel('False Positive Rate')\n",
    "plt.ylabel('True Positive Rate')\n",
    "\n",
    "plt.title('ROC-кривая модели \"Логистическая регрессия\"')\n",
    "\n",
    "plt.show()"
   ]
  },
  {
   "cell_type": "markdown",
   "metadata": {},
   "source": [
    "На графике оранжевая пунктирная линия соответствует предсказаниям случайной модели. Площадь под этой прямой равно 0,5. Соответственно, чтобы наша модель была адекватной, нужно чтобы ее график проходил над прямой случайной модели, т.е. чтобы площадь под кривой была болшье 0,5.\n",
    "\n",
    "Она проходит из точки (0,0), соответствующей максимальному значению порога, в точку (1,1), соответствующую минимальному значению порога.  \n",
    "Кривая модели монотонно не убывает. Чем выше лежит кривая, тем лучше качество классификации.\n",
    "\n",
    "Площадь под ROC-кривой AUC (Area Under Curve) является агрегированной характеристикой качества классификации. Чем больше значение AUC, тем лучше модель классификации. Данный показатель часто используется для сравнительного анализа нескольких моделей классификации.  \n",
    "Вычисляется площадь под кривой при помощи метрики **roc_auc_score** из библиотеки sklearn. На вход она принимает значения целевого признака и вероятности положительного класса, возвращает значение площади под кривой."
   ]
  },
  {
   "cell_type": "code",
   "execution_count": 34,
   "metadata": {},
   "outputs": [
    {
     "data": {
      "text/plain": [
       "0.7608"
      ]
     },
     "execution_count": 34,
     "metadata": {},
     "output_type": "execute_result"
    }
   ],
   "source": [
    "auc_roc_lr_b = round(roc_auc_score(target_valid, probabilities_one_valid_lr_b), 4)\n",
    "auc_roc_lr_b"
   ]
  },
  {
   "cell_type": "markdown",
   "metadata": {},
   "source": [
    "Получили значение площади под кривой на четверть выше, чем у случайной модели. Уже неплохо."
   ]
  },
  {
   "cell_type": "markdown",
   "metadata": {},
   "source": [
    "Поскольку техника upsampling показала, что работает на благо нашей задаче, то попробуем обучить остальные модели на новых выборках и посчитать две новых метрики для каждой."
   ]
  },
  {
   "cell_type": "markdown",
   "metadata": {},
   "source": [
    "### Решающее дерево"
   ]
  },
  {
   "cell_type": "code",
   "execution_count": 35,
   "metadata": {},
   "outputs": [
    {
     "name": "stdout",
     "output_type": "stream",
     "text": [
      "Максимальное F1 0.5998 при max_depth = 7\n",
      "\n",
      "Максимальное AUC-ROC 0.8358 при max_depth = 5\n"
     ]
    }
   ],
   "source": [
    "f1_tree_b_list = []\n",
    "auc_roc_tree_b_list = []\n",
    "\n",
    "for md_tree_b in range(2, 20):\n",
    "    model_tree_b = DecisionTreeClassifier(max_depth=md_tree_b, random_state=237)\n",
    "    model_tree_b.fit(features_upsampled, target_upsampled)\n",
    "    predictions_tree_b = model_tree_b.predict(features_valid)\n",
    "    \n",
    "    f1_tree_b = round(f1_score(target_valid, predictions_tree_b), 4)\n",
    "    f1_tree_b_list.append(f1_tree_b)\n",
    "    \n",
    "    probabilities_valid_tree_b = model_tree_b.predict_proba(features_valid)\n",
    "    probabilities_one_valid_tree_b = probabilities_valid_tree_b[:, 1]\n",
    "    auc_roc_tree_b = round(roc_auc_score(target_valid, probabilities_one_valid_tree_b), 4)\n",
    "    auc_roc_tree_b_list.append(auc_roc_tree_b)\n",
    "\n",
    "print('Максимальное F1', max(f1_tree_b_list), 'при max_depth =', np.argmax(f1_tree_b_list)+2)\n",
    "print()\n",
    "print('Максимальное AUC-ROC', max(auc_roc_tree_b_list), 'при max_depth =', np.argmax(auc_roc_tree_b_list)+2)"
   ]
  },
  {
   "cell_type": "markdown",
   "metadata": {},
   "source": [
    "### Случайный лес"
   ]
  },
  {
   "cell_type": "code",
   "execution_count": 36,
   "metadata": {},
   "outputs": [
    {
     "name": "stdout",
     "output_type": "stream",
     "text": [
      "Максимальное F1 0.6524 при max_depth = 12 и n_estimators = 100\n",
      "\n",
      "Максимальное AUC-ROC 0.86 при max_depth = 12 и n_estimators = 144\n",
      "CPU times: user 2min 18s, sys: 282 ms, total: 2min 18s\n",
      "Wall time: 2min 20s\n"
     ]
    }
   ],
   "source": [
    "%%time\n",
    "\n",
    "f1_rf_b_list = []\n",
    "for md_rf_b in range(2, 21):\n",
    "    \n",
    "    model_rf_b = RandomForestClassifier(max_depth=md_rf_b, n_estimators=20, random_state=237)\n",
    "    model_rf_b.fit(features_upsampled, target_upsampled)\n",
    "    prediction_rf_b = model_rf_b.predict(features_valid)\n",
    "    \n",
    "    f1_rf_b = round(f1_score(target_valid, prediction_rf_b), 4)\n",
    "    f1_rf_b_list.append(f1_rf_b)\n",
    "    \n",
    "max_depth2 = np.argmax(f1_rf_b_list)+2\n",
    "\n",
    "\n",
    "f1_rf_b_list_ne = []\n",
    "auc_roc_rf_b_list_ne = []\n",
    "\n",
    "for ne_rf_b in range(2, 151):\n",
    "    \n",
    "    model_rf_b_ne = RandomForestClassifier(max_depth=max_depth2, n_estimators=ne_rf_b, random_state=237)\n",
    "    model_rf_b_ne.fit(features_upsampled, target_upsampled)\n",
    "    prediction_rf_b_ne = model_rf_b_ne.predict(features_valid)\n",
    "    \n",
    "    f1_rf_b_ne = round(f1_score(target_valid, prediction_rf_b_ne), 4)\n",
    "    f1_rf_b_list_ne.append(f1_rf_b_ne)\n",
    "    \n",
    "    probabilities_valid_rf_b_ne = model_rf_b_ne.predict_proba(features_valid)\n",
    "    probabilities_one_valid_rf_b_ne = probabilities_valid_rf_b_ne[:, 1]\n",
    "    auc_roc_rf_b_ne = round(roc_auc_score(target_valid, probabilities_one_valid_rf_b_ne), 4)\n",
    "    auc_roc_rf_b_list_ne.append(auc_roc_rf_b_ne)\n",
    "    \n",
    "print('Максимальное F1', max(f1_rf_b_list_ne), 'при max_depth =', max_depth2, 'и n_estimators =', np.argmax(f1_rf_b_list_ne)+2)\n",
    "print()\n",
    "print('Максимальное AUC-ROC', max(auc_roc_rf_b_list_ne),\n",
    "      'при max_depth =', max_depth2, 'и n_estimators =', np.argmax(auc_roc_rf_b_list_ne)+2)\n",
    "\n",
    "# перменная для тестирования\n",
    "n_estim = np.argmax(auc_roc_rf_b_list_ne)+2"
   ]
  },
  {
   "cell_type": "markdown",
   "metadata": {},
   "source": [
    "Посмотрим на графиках как изменилась метрика F1 в сравнени с несбалансированным данными:"
   ]
  },
  {
   "cell_type": "code",
   "execution_count": 37,
   "metadata": {
    "scrolled": false
   },
   "outputs": [
    {
     "data": {
      "image/png": "[encoded data removed]",
      "text/plain": [
       "<Figure size 1152x360 with 3 Axes>"
      ]
     },
     "metadata": {
      "needs_background": "light"
     },
     "output_type": "display_data"
    }
   ],
   "source": [
    "x = [1, 2]\n",
    "\n",
    "y_tree = [max(f1_tree_nb_list), max(f1_tree_b_list)]\n",
    "y_rf = [max(f1_rf_nb_list), max(f1_rf_b_list_ne)]\n",
    "y_lr = [f1_lr_nb, f1_lr_b]\n",
    "\n",
    "fig, ax = plt.subplots(1, 3, figsize=(16, 5))\n",
    "\n",
    "ax[0].bar(x, y_tree, width=0.3, tick_label=['data not balanced', 'data balanced'])\n",
    "ax[0].set_title('Model tree')\n",
    "ax[0].set_ylabel('F1-мера')\n",
    "\n",
    "ax[1].bar(x, y_rf, width=0.3, tick_label=['data not balanced', 'data balanced'])\n",
    "ax[1].set_title('Model random forest')\n",
    "ax[1].set_ylabel('F1-мера')\n",
    "\n",
    "ax[2].bar(x, y_lr, width=0.3, tick_label=['data not balanced', 'data balanced'])\n",
    "ax[2].set_title('Model logistic regression')\n",
    "ax[2].set_ylabel('F1-мера')\n",
    "\n",
    "plt.show()"
   ]
  },
  {
   "cell_type": "markdown",
   "metadata": {},
   "source": [
    "У моделей \"Решающее дерево\" и \"Случайный лес\" небольшой прирост в метрике. \"Логистическая регрессия\" значительно прибавила в качестве.\n",
    "\n",
    "Следовательно \"деревянные\" модели слабо зависят от дисбаланса классов.\n",
    "\n",
    "**Наилучшая F1-мера у модели \"Случайный лес\" с результатом 0,6524**"
   ]
  },
  {
   "cell_type": "markdown",
   "metadata": {},
   "source": [
    "Попробуем построить ROC-кривые для всех моделей:"
   ]
  },
  {
   "cell_type": "code",
   "execution_count": 38,
   "metadata": {},
   "outputs": [],
   "source": [
    "# определяем переменные двух оставшихся моделей (для логистической регрессии уже есть)\n",
    "\n",
    "fpr_tree_b, tpr_tree_b, thresholds_tree_b = roc_curve(target_valid, probabilities_one_valid_tree_b)\n",
    "fpr_rf_b, tpr_rf_b, thresholds_rf_b = roc_curve(target_valid, probabilities_one_valid_rf_b_ne)"
   ]
  },
  {
   "cell_type": "code",
   "execution_count": 39,
   "metadata": {},
   "outputs": [
    {
     "data": {
      "image/png": "[encoded data removed]",
      "text/plain": [
       "<Figure size 720x504 with 1 Axes>"
      ]
     },
     "metadata": {
      "needs_background": "light"
     },
     "output_type": "display_data"
    }
   ],
   "source": [
    "plt.figure(figsize=(10, 7))\n",
    "\n",
    "# ROC-кривая наших моделей\n",
    "plt.plot(fpr_tree_b, tpr_tree_b, '-', label='Tree')\n",
    "plt.plot(fpr_rf_b, tpr_rf_b, '-', label='Random forest')\n",
    "plt.plot(fpr_lr_b, tpr_lr_b, '-', label='Logistic regression')\n",
    "\n",
    "# ROC-кривая случайной модели\n",
    "plt.plot([0, 1], [0, 1], linestyle='--')\n",
    "\n",
    "plt.xlim(0, 1)\n",
    "plt.ylim(0, 1)\n",
    "\n",
    "plt.xlabel('False Positive Rate')\n",
    "plt.ylabel('True Positive Rate')\n",
    "\n",
    "plt.title('ROC-кривые моделей')\n",
    "\n",
    "plt.legend()\n",
    "\n",
    "plt.show()"
   ]
  },
  {
   "cell_type": "markdown",
   "metadata": {},
   "source": [
    "Как видно из графика ROC-кривых наибольшая площадь под кривой также у **модели \"Случайный лес\" с результатом AUC-ROC = 0,86**\n",
    "\n",
    "Также можно заметить, что дерево решений ведет себя странно и больше похожа на случайную модель."
   ]
  },
  {
   "cell_type": "markdown",
   "metadata": {},
   "source": [
    "<a id='7'></a>"
   ]
  },
  {
   "cell_type": "markdown",
   "metadata": {},
   "source": [
    "## 7. Тестирование<div align=right>[To top](#top)</div>"
   ]
  },
  {
   "cell_type": "code",
   "execution_count": 40,
   "metadata": {},
   "outputs": [
    {
     "name": "stdout",
     "output_type": "stream",
     "text": [
      "F1-мера на тестовой выборке 0.6108\n",
      "\n",
      "AUC-ROC на тестовой выборке 0.8689\n"
     ]
    }
   ],
   "source": [
    "model_rf_b_test = RandomForestClassifier(max_depth=max_depth2, n_estimators=n_estim, random_state=237)\n",
    "model_rf_b_test.fit(features_upsampled, target_upsampled)\n",
    "predictions_rf_b_test = model_rf_b_test.predict(features_test)\n",
    "\n",
    "f1_rf_b_test = round(f1_score(target_test, predictions_rf_b_test), 4)\n",
    "print('F1-мера на тестовой выборке', f1_rf_b_test)\n",
    "print()\n",
    "\n",
    "probabilities_valid_rf_b_test = model_rf_b_test.predict_proba(features_test)\n",
    "probabilities_one_valid_rf_b_test = probabilities_valid_rf_b_test[:, 1]\n",
    "auc_roc_rf_b_test = round(roc_auc_score(target_test, probabilities_one_valid_rf_b_test), 4)\n",
    "print('AUC-ROC на тестовой выборке', auc_roc_rf_b_test)"
   ]
  },
  {
   "cell_type": "markdown",
   "metadata": {},
   "source": [
    "Получили значение F1-меры на тестовой выборке 0,61, что немного выше минимального порога по заданию."
   ]
  },
  {
   "cell_type": "markdown",
   "metadata": {},
   "source": [
    "<a id='8'></a>"
   ]
  },
  {
   "cell_type": "markdown",
   "metadata": {},
   "source": [
    "## 8. Второй набор данных<div align=right>[To top](#top)</div>"
   ]
  },
  {
   "cell_type": "markdown",
   "metadata": {},
   "source": [
    "Проделаем тоже самое со вторым набором данных, в которых пропуски удалены и посмотрим отличия в качестве моделей.\n",
    "\n",
    "### Удаление пропусков"
   ]
  },
  {
   "cell_type": "code",
   "execution_count": 41,
   "metadata": {
    "scrolled": false
   },
   "outputs": [
    {
     "name": "stdout",
     "output_type": "stream",
     "text": [
      "<class 'pandas.core.frame.DataFrame'>\n",
      "RangeIndex: 10000 entries, 0 to 9999\n",
      "Data columns (total 11 columns):\n",
      "creditscore        10000 non-null int64\n",
      "geography          10000 non-null object\n",
      "gender             10000 non-null object\n",
      "age                10000 non-null int64\n",
      "tenure             9091 non-null float64\n",
      "balance            10000 non-null float64\n",
      "numofproducts      10000 non-null int64\n",
      "hascrcard          10000 non-null int64\n",
      "isactivemember     10000 non-null int64\n",
      "estimatedsalary    10000 non-null float64\n",
      "exited             10000 non-null int64\n",
      "dtypes: float64(3), int64(6), object(2)\n",
      "memory usage: 859.5+ KB\n"
     ]
    }
   ],
   "source": [
    "# зарезервированный датасет\n",
    "\n",
    "df_delmissing.info()"
   ]
  },
  {
   "cell_type": "code",
   "execution_count": 42,
   "metadata": {},
   "outputs": [
    {
     "name": "stdout",
     "output_type": "stream",
     "text": [
      "<class 'pandas.core.frame.DataFrame'>\n",
      "Int64Index: 9091 entries, 0 to 9998\n",
      "Data columns (total 11 columns):\n",
      "creditscore        9091 non-null int64\n",
      "geography          9091 non-null object\n",
      "gender             9091 non-null object\n",
      "age                9091 non-null int64\n",
      "tenure             9091 non-null float64\n",
      "balance            9091 non-null float64\n",
      "numofproducts      9091 non-null int64\n",
      "hascrcard          9091 non-null int64\n",
      "isactivemember     9091 non-null int64\n",
      "estimatedsalary    9091 non-null float64\n",
      "exited             9091 non-null int64\n",
      "dtypes: float64(3), int64(6), object(2)\n",
      "memory usage: 852.3+ KB\n"
     ]
    }
   ],
   "source": [
    "# удаляем пропуски\n",
    "\n",
    "df_delmissing = df_delmissing.dropna()\n",
    "df_delmissing.info()"
   ]
  },
  {
   "cell_type": "markdown",
   "metadata": {},
   "source": [
    "### Кодирование признаков и разделение данных"
   ]
  },
  {
   "cell_type": "code",
   "execution_count": 43,
   "metadata": {},
   "outputs": [
    {
     "data": {
      "text/html": [
       "<div>\n",
       "<style scoped>\n",
       "    .dataframe tbody tr th:only-of-type {\n",
       "        vertical-align: middle;\n",
       "    }\n",
       "\n",
       "    .dataframe tbody tr th {\n",
       "        vertical-align: top;\n",
       "    }\n",
       "\n",
       "    .dataframe thead th {\n",
       "        text-align: right;\n",
       "    }\n",
       "</style>\n",
       "<table border=\"1\" class=\"dataframe\">\n",
       "  <thead>\n",
       "    <tr style=\"text-align: right;\">\n",
       "      <th></th>\n",
       "      <th>creditscore</th>\n",
       "      <th>age</th>\n",
       "      <th>tenure</th>\n",
       "      <th>balance</th>\n",
       "      <th>numofproducts</th>\n",
       "      <th>hascrcard</th>\n",
       "      <th>isactivemember</th>\n",
       "      <th>estimatedsalary</th>\n",
       "      <th>exited</th>\n",
       "      <th>geography_Germany</th>\n",
       "      <th>geography_Spain</th>\n",
       "      <th>gender_Male</th>\n",
       "    </tr>\n",
       "  </thead>\n",
       "  <tbody>\n",
       "    <tr>\n",
       "      <td>0</td>\n",
       "      <td>619</td>\n",
       "      <td>42</td>\n",
       "      <td>2.0</td>\n",
       "      <td>0.00</td>\n",
       "      <td>1</td>\n",
       "      <td>1</td>\n",
       "      <td>1</td>\n",
       "      <td>101348.88</td>\n",
       "      <td>1</td>\n",
       "      <td>0</td>\n",
       "      <td>0</td>\n",
       "      <td>0</td>\n",
       "    </tr>\n",
       "    <tr>\n",
       "      <td>1</td>\n",
       "      <td>608</td>\n",
       "      <td>41</td>\n",
       "      <td>1.0</td>\n",
       "      <td>83807.86</td>\n",
       "      <td>1</td>\n",
       "      <td>0</td>\n",
       "      <td>1</td>\n",
       "      <td>112542.58</td>\n",
       "      <td>0</td>\n",
       "      <td>0</td>\n",
       "      <td>1</td>\n",
       "      <td>0</td>\n",
       "    </tr>\n",
       "  </tbody>\n",
       "</table>\n",
       "</div>"
      ],
      "text/plain": [
       "   creditscore  age  tenure   balance  numofproducts  hascrcard  \\\n",
       "0          619   42     2.0      0.00              1          1   \n",
       "1          608   41     1.0  83807.86              1          0   \n",
       "\n",
       "   isactivemember  estimatedsalary  exited  geography_Germany  \\\n",
       "0               1        101348.88       1                  0   \n",
       "1               1        112542.58       0                  0   \n",
       "\n",
       "   geography_Spain  gender_Male  \n",
       "0                0            0  \n",
       "1                1            0  "
      ]
     },
     "execution_count": 43,
     "metadata": {},
     "output_type": "execute_result"
    }
   ],
   "source": [
    "# one-hot кодирование\n",
    "\n",
    "df_delmissing = pd.get_dummies(df_delmissing, drop_first=True)\n",
    "df_delmissing.head(2)"
   ]
  },
  {
   "cell_type": "code",
   "execution_count": 44,
   "metadata": {},
   "outputs": [
    {
     "name": "stdout",
     "output_type": "stream",
     "text": [
      "train (5454, 12)\n",
      "valid (1818, 12)\n",
      "test (1819, 12)\n"
     ]
    }
   ],
   "source": [
    "# разделение данных на обучающую, валидационную и тестовую выборки\n",
    "\n",
    "df_delmissing_train, df_delmissing_check = train_test_split(df_delmissing, test_size=0.4, random_state=237)\n",
    "\n",
    "df_delmissing_valid, df_delmissing_test = train_test_split(df_delmissing_check, test_size=0.5, random_state=237)\n",
    "\n",
    "print('train', df_delmissing_train.shape)\n",
    "print('valid', df_delmissing_valid.shape)\n",
    "print('test', df_delmissing_test.shape)"
   ]
  },
  {
   "cell_type": "code",
   "execution_count": 45,
   "metadata": {},
   "outputs": [],
   "source": [
    "# деление выборок на признаки и цели\n",
    "\n",
    "features_train_dm = df_delmissing_train.drop('exited', axis=1)\n",
    "features_valid_dm = df_delmissing_valid.drop('exited', axis=1)\n",
    "features_test_dm = df_delmissing_test.drop('exited', axis=1)\n",
    "\n",
    "target_train_dm = df_delmissing_train['exited']\n",
    "target_valid_dm = df_delmissing_valid['exited']\n",
    "target_test_dm = df_delmissing_test['exited']"
   ]
  },
  {
   "cell_type": "markdown",
   "metadata": {},
   "source": [
    "### Масштабирование признаков"
   ]
  },
  {
   "cell_type": "code",
   "execution_count": 46,
   "metadata": {},
   "outputs": [],
   "source": [
    "scaler_dm = StandardScaler()"
   ]
  },
  {
   "cell_type": "code",
   "execution_count": 47,
   "metadata": {},
   "outputs": [
    {
     "data": {
      "text/plain": [
       "StandardScaler(copy=True, with_mean=True, with_std=True)"
      ]
     },
     "execution_count": 47,
     "metadata": {},
     "output_type": "execute_result"
    }
   ],
   "source": [
    "scaler_dm.fit(features_train_dm[numeric])"
   ]
  },
  {
   "cell_type": "code",
   "execution_count": 48,
   "metadata": {},
   "outputs": [],
   "source": [
    "features_train_dm[numeric] = scaler_dm.transform(features_train_dm[numeric])\n",
    "features_valid_dm[numeric] = scaler_dm.transform(features_valid_dm[numeric])\n",
    "features_test_dm[numeric] = scaler_dm.transform(features_test_dm[numeric])"
   ]
  },
  {
   "cell_type": "markdown",
   "metadata": {},
   "source": [
    "### Баланс классов"
   ]
  },
  {
   "cell_type": "markdown",
   "metadata": {},
   "source": [
    "Т.к. техника upsampling в целом плодотворно повлияла на модели, то сразу преобразуем данные."
   ]
  },
  {
   "cell_type": "code",
   "execution_count": 49,
   "metadata": {},
   "outputs": [
    {
     "data": {
      "image/png": "[encoded data removed]",
      "text/plain": [
       "<Figure size 432x288 with 1 Axes>"
      ]
     },
     "metadata": {
      "needs_background": "light"
     },
     "output_type": "display_data"
    }
   ],
   "source": [
    "# dm - del missing\n",
    "\n",
    "class_frequency_dm = df_delmissing['exited'].value_counts(normalize=True)\n",
    "class_frequency_dm.plot(kind='bar', title='Баланс классов целевого признака до изменения')\n",
    "plt.ylabel('Доля')\n",
    "\n",
    "plt.show()"
   ]
  },
  {
   "cell_type": "markdown",
   "metadata": {},
   "source": [
    "Преобразовываем через уже известную нам функцию `upsample`"
   ]
  },
  {
   "cell_type": "code",
   "execution_count": 50,
   "metadata": {},
   "outputs": [],
   "source": [
    "# преобразуем наши обучающие выборки\n",
    "\n",
    "features_upsampled_dm, target_upsampled_dm = upsample(features_train_dm, target_train_dm, 3)"
   ]
  },
  {
   "cell_type": "code",
   "execution_count": 51,
   "metadata": {},
   "outputs": [
    {
     "data": {
      "image/png": "[encoded data removed]",
      "text/plain": [
       "<Figure size 432x288 with 1 Axes>"
      ]
     },
     "metadata": {
      "needs_background": "light"
     },
     "output_type": "display_data"
    }
   ],
   "source": [
    "class_frequency_dm2 = target_upsampled_dm.value_counts(normalize=True)\n",
    "class_frequency_dm2.plot(kind='bar', title='Баланс классов целевого признака после изменения')\n",
    "plt.ylabel('Доля')\n",
    "\n",
    "plt.show()"
   ]
  },
  {
   "cell_type": "markdown",
   "metadata": {},
   "source": [
    "### Обучение моделей\n",
    "\n",
    "Аналогично обучим те же модели и вычислим метрики.\n",
    "\n",
    "#### Решающее дерево"
   ]
  },
  {
   "cell_type": "code",
   "execution_count": 52,
   "metadata": {},
   "outputs": [
    {
     "name": "stdout",
     "output_type": "stream",
     "text": [
      "[0.5038, 0.5, 0.524, 0.5606, 0.5662, 0.5763, 0.5795, 0.5607, 0.5416, 0.5335, 0.5234, 0.5235, 0.5115, 0.5033, 0.5235, 0.5131, 0.493, 0.512]\n",
      "\n",
      "Максимальное F1 0.5795 при max_depth = 8\n",
      "\n",
      "Максимальное AUC-ROC 0.8377 при max_depth = 5\n"
     ]
    }
   ],
   "source": [
    "f1_tree_b_dm_list = []\n",
    "auc_roc_tree_b_dm_list = []\n",
    "\n",
    "for md_tree_b_dm in range(2, 20):\n",
    "    model_tree_b_dm = DecisionTreeClassifier(max_depth=md_tree_b_dm, random_state=237)\n",
    "    model_tree_b_dm.fit(features_upsampled_dm, target_upsampled_dm)\n",
    "    predictions_tree_b_dm = model_tree_b_dm.predict(features_valid_dm)\n",
    "    \n",
    "    f1_tree_b_dm = round(f1_score(target_valid_dm, predictions_tree_b_dm), 4)\n",
    "    f1_tree_b_dm_list.append(f1_tree_b_dm)\n",
    "    \n",
    "    probabilities_valid_tree_b_dm = model_tree_b_dm.predict_proba(features_valid_dm)\n",
    "    probabilities_one_valid_tree_b_dm = probabilities_valid_tree_b_dm[:, 1]\n",
    "    auc_roc_tree_b_dm = round(roc_auc_score(target_valid_dm, probabilities_one_valid_tree_b_dm), 4)\n",
    "    auc_roc_tree_b_dm_list.append(auc_roc_tree_b_dm)\n",
    "    \n",
    "print(f1_tree_b_dm_list)\n",
    "print()\n",
    "print('Максимальное F1', max(f1_tree_b_dm_list), 'при max_depth =', np.argmax(f1_tree_b_dm_list)+2)\n",
    "print()\n",
    "print('Максимальное AUC-ROC', max(auc_roc_tree_b_dm_list), 'при max_depth =', np.argmax(auc_roc_tree_b_dm_list)+2)"
   ]
  },
  {
   "cell_type": "markdown",
   "metadata": {},
   "source": [
    "#### Случайный лес"
   ]
  },
  {
   "cell_type": "code",
   "execution_count": 53,
   "metadata": {},
   "outputs": [
    {
     "name": "stdout",
     "output_type": "stream",
     "text": [
      "Максимальное F1 0.611 при max_depth = 7 и n_estimators = 61\n",
      "\n",
      "Максимальное AUC-ROC 0.8555 при max_depth = 7 и n_estimators = 46\n"
     ]
    }
   ],
   "source": [
    "f1_rf_b_dm_list = []\n",
    "\n",
    "for md_rf_b_dm in range(2, 20):\n",
    "    \n",
    "    model_rf_b_dm = RandomForestClassifier(max_depth=md_rf_b_dm, n_estimators=20, random_state=237)\n",
    "    model_rf_b_dm.fit(features_upsampled_dm, target_upsampled_dm)\n",
    "    prediction_rf_b_dm = model_rf_b_dm.predict(features_valid_dm)\n",
    "    \n",
    "    f1_rf_b_dm = round(f1_score(target_valid_dm, prediction_rf_b_dm), 4)\n",
    "    f1_rf_b_dm_list.append(f1_rf_b_dm)\n",
    "\n",
    "max_depth3 = np.argmax(f1_rf_b_dm_list)\n",
    "\n",
    "f1_rf_b_dm_list_ne = []\n",
    "auc_roc_rf_b_dm_list_ne = []\n",
    "\n",
    "for ne_rf_b_dm in range(2, 151):\n",
    "    \n",
    "    model_rf_b_ne_dm = RandomForestClassifier(max_depth=max_depth3, n_estimators=ne_rf_b_dm, random_state=237)\n",
    "    model_rf_b_ne_dm.fit(features_upsampled_dm, target_upsampled_dm)\n",
    "    prediction_rf_b_ne_dm = model_rf_b_ne_dm.predict(features_valid_dm)\n",
    "    \n",
    "    f1_rf_b_ne_dm = round(f1_score(target_valid_dm, prediction_rf_b_ne_dm), 4)\n",
    "    f1_rf_b_dm_list_ne.append(f1_rf_b_ne_dm)\n",
    "    \n",
    "    probabilities_valid_rf_b_ne_dm = model_rf_b_ne_dm.predict_proba(features_valid_dm)\n",
    "    probabilities_one_valid_rf_b_ne_dm = probabilities_valid_rf_b_ne_dm[:, 1]\n",
    "    auc_roc_rf_b_ne_dm = round(roc_auc_score(target_valid_dm, probabilities_one_valid_rf_b_ne_dm), 4)\n",
    "    auc_roc_rf_b_dm_list_ne.append(auc_roc_rf_b_ne_dm)\n",
    "    \n",
    "print('Максимальное F1', max(f1_rf_b_dm_list_ne), 'при max_depth =', max_depth3,\n",
    "      'и n_estimators =', np.argmax(f1_rf_b_dm_list_ne)+2)\n",
    "print()\n",
    "print('Максимальное AUC-ROC', max(auc_roc_rf_b_dm_list_ne),'при max_depth =', max_depth3,\n",
    "      'и n_estimators =', np.argmax(auc_roc_rf_b_dm_list_ne)+2)\n",
    "\n",
    "# переменная для тестирования\n",
    "n_estim_dm = np.argmax(auc_roc_rf_b_dm_list_ne)+2"
   ]
  },
  {
   "cell_type": "markdown",
   "metadata": {},
   "source": [
    "#### Логистическая регрессия"
   ]
  },
  {
   "cell_type": "code",
   "execution_count": 54,
   "metadata": {},
   "outputs": [
    {
     "name": "stdout",
     "output_type": "stream",
     "text": [
      "F1-мера 0.4588\n",
      "\n",
      "AUC-ROC 0.7541\n"
     ]
    }
   ],
   "source": [
    "model_lr_b_dm = LogisticRegression(random_state=237, solver='lbfgs')\n",
    "model_lr_b_dm.fit(features_upsampled_dm, target_upsampled_dm)\n",
    "prediction_lr_b_dm = model_lr_b_dm.predict(features_valid_dm)\n",
    "\n",
    "f1_lr_b_dm = round(f1_score(target_valid_dm, prediction_lr_b_dm), 4)\n",
    "\n",
    "probabilities_valid_lr_b_dm = model_lr_b_dm.predict_proba(features_valid_dm)\n",
    "probabilities_one_valid_lr_b_dm = probabilities_valid_lr_b_dm[:, 1]\n",
    "auc_roc_lr_b_dm = round(roc_auc_score(target_valid_dm, probabilities_one_valid_lr_b_dm), 4)\n",
    "\n",
    "print('F1-мера', f1_lr_b_dm)\n",
    "print()\n",
    "print('AUC-ROC', auc_roc_lr_b_dm)"
   ]
  },
  {
   "cell_type": "markdown",
   "metadata": {},
   "source": [
    "### Тестирование"
   ]
  },
  {
   "cell_type": "code",
   "execution_count": 55,
   "metadata": {},
   "outputs": [
    {
     "name": "stdout",
     "output_type": "stream",
     "text": [
      "F1-мера на тестовой выборке 0.6397\n",
      "\n",
      "AUC-ROC на тестовой выборке 0.8692\n"
     ]
    }
   ],
   "source": [
    "model_rf_b_test_dm = RandomForestClassifier(max_depth=max_depth3, n_estimators=n_estim_dm, random_state=237)\n",
    "model_rf_b_test_dm.fit(features_upsampled_dm, target_upsampled_dm)\n",
    "predictions_rf_b_test_dm = model_rf_b_test_dm.predict(features_test_dm)\n",
    "\n",
    "f1_rf_b_test_dm = round(f1_score(target_test_dm, predictions_rf_b_test_dm), 4)\n",
    "print('F1-мера на тестовой выборке', f1_rf_b_test_dm)\n",
    "print()\n",
    "\n",
    "probabilities_valid_rf_b_test_dm = model_rf_b_test_dm.predict_proba(features_test_dm)\n",
    "probabilities_one_valid_rf_b_test_dm = probabilities_valid_rf_b_test_dm[:, 1]\n",
    "auc_roc_rf_b_test_dm = round(roc_auc_score(target_test_dm, probabilities_one_valid_rf_b_test_dm), 4)\n",
    "print('AUC-ROC на тестовой выборке', auc_roc_rf_b_test_dm)"
   ]
  },
  {
   "cell_type": "markdown",
   "metadata": {},
   "source": [
    "На три сотых выше, чем с предыдущими данными."
   ]
  },
  {
   "cell_type": "markdown",
   "metadata": {},
   "source": [
    "Сравним результаты метрик разных моделей с разных данных на графиках:"
   ]
  },
  {
   "cell_type": "code",
   "execution_count": 56,
   "metadata": {},
   "outputs": [
    {
     "data": {
      "image/png": "[encoded data removed]",
      "text/plain": [
       "<Figure size 864x432 with 1 Axes>"
      ]
     },
     "metadata": {
      "needs_background": "light"
     },
     "output_type": "display_data"
    }
   ],
   "source": [
    "labels = ['F1_tree', 'F1_random_forest', 'F1_logistic_regression']\n",
    "\n",
    "f1_wm = [max(f1_tree_b_list), max(f1_rf_b_list), f1_lr_b]\n",
    "f1_dm = [max(f1_tree_b_dm_list), max(f1_rf_b_dm_list_ne), f1_lr_b_dm]\n",
    "\n",
    "x = np.arange(len(labels))\n",
    "width = 0.35\n",
    "\n",
    "fig, ax = plt.subplots(figsize=(12, 6))\n",
    "rects1 = ax.bar(x - width/2, f1_wm, width, label='F1 заполненные пропуски')\n",
    "rects2 = ax.bar(x + width/2, f1_dm, width, label='F1 удаленные пропуски')\n",
    "\n",
    "ax.set_ylabel('Значение F1-меры')\n",
    "ax.set_ylim(0, 1.2)\n",
    "ax.set_title('Значения F1-меры при заполнении и удалении пропусков')\n",
    "ax.set_xticks(x)\n",
    "ax.set_xticklabels(labels)\n",
    "ax.legend()\n",
    "\n",
    "def autolabel(rects):\n",
    "    for rect in rects:\n",
    "        height = rect.get_height()\n",
    "        ax.annotate('{}'.format(height),\n",
    "                    xy=(rect.get_x() + rect.get_width() / 2, height),\n",
    "                    xytext=(0, 3),\n",
    "                    textcoords=\"offset points\",\n",
    "                    ha='center', va='bottom')\n",
    "\n",
    "\n",
    "autolabel(rects1)\n",
    "autolabel(rects2)\n",
    "\n",
    "fig.tight_layout()\n",
    "\n",
    "plt.show()"
   ]
  },
  {
   "cell_type": "code",
   "execution_count": 57,
   "metadata": {},
   "outputs": [
    {
     "data": {
      "image/png": "[encoded data removed]",
      "text/plain": [
       "<Figure size 864x432 with 1 Axes>"
      ]
     },
     "metadata": {
      "needs_background": "light"
     },
     "output_type": "display_data"
    }
   ],
   "source": [
    "labels = ['auc_roc_tree', 'auc_roc_random_forest', 'auc_roc_logistic_regression']\n",
    "\n",
    "ar_wm = [max(auc_roc_tree_b_list), max(auc_roc_rf_b_list_ne), auc_roc_lr_b]\n",
    "ar_dm = [max(auc_roc_tree_b_dm_list), max(auc_roc_rf_b_dm_list_ne), auc_roc_lr_b_dm]\n",
    "\n",
    "x = np.arange(len(labels))\n",
    "width = 0.35\n",
    "\n",
    "fig, ax = plt.subplots(figsize=(12, 6))\n",
    "rects1 = ax.bar(x - width/2, ar_wm, width, label='AUC-ROC заполненные пропуски')\n",
    "rects2 = ax.bar(x + width/2, ar_dm, width, label='AUC-ROC удаленные пропуски')\n",
    "\n",
    "ax.set_ylabel('Значение AUC-ROC')\n",
    "ax.set_ylim(0, 1.2)\n",
    "ax.set_title('Значения AUC-ROC при заполнении и удалении пропусков')\n",
    "ax.set_xticks(x)\n",
    "ax.set_xticklabels(labels)\n",
    "ax.legend()\n",
    "\n",
    "def autolabel(rects):\n",
    "    for rect in rects:\n",
    "        height = rect.get_height()\n",
    "        ax.annotate('{}'.format(height),\n",
    "                    xy=(rect.get_x() + rect.get_width() / 2, height),\n",
    "                    xytext=(0, 3),\n",
    "                    textcoords=\"offset points\",\n",
    "                    ha='center', va='bottom')\n",
    "\n",
    "\n",
    "autolabel(rects1)\n",
    "autolabel(rects2)\n",
    "\n",
    "fig.tight_layout()\n",
    "\n",
    "plt.show()"
   ]
  },
  {
   "cell_type": "code",
   "execution_count": 58,
   "metadata": {},
   "outputs": [
    {
     "data": {
      "image/png": "[encoded data removed]",
      "text/plain": [
       "<Figure size 864x432 with 1 Axes>"
      ]
     },
     "metadata": {
      "needs_background": "light"
     },
     "output_type": "display_data"
    }
   ],
   "source": [
    "labels = ['F1', 'AUC-ROC']\n",
    "\n",
    "y_test_1 = [f1_rf_b_test, auc_roc_rf_b_test]\n",
    "y_test_2 = [f1_rf_b_test_dm, auc_roc_rf_b_test_dm]\n",
    "\n",
    "x = np.arange(len(labels))\n",
    "width = 0.35\n",
    "\n",
    "fig, ax = plt.subplots(figsize=(12, 6))\n",
    "rects1 = ax.bar(x - width/2, y_test_1, width, label='заполненные пропуски')\n",
    "rects2 = ax.bar(x + width/2, y_test_2, width, label='удаленные пропуски')\n",
    "\n",
    "ax.set_ylabel('Значение метрик')\n",
    "ax.set_ylim(0, 1.2)\n",
    "ax.set_title('Значения метрик при заполнении и удалении пропусков')\n",
    "ax.set_xticks(x)\n",
    "ax.set_xticklabels(labels)\n",
    "ax.legend()\n",
    "\n",
    "def autolabel(rects):\n",
    "    for rect in rects:\n",
    "        height = rect.get_height()\n",
    "        ax.annotate('{}'.format(height),\n",
    "                    xy=(rect.get_x() + rect.get_width() / 2, height),\n",
    "                    xytext=(0, 3),\n",
    "                    textcoords=\"offset points\",\n",
    "                    ha='center', va='bottom')\n",
    "\n",
    "\n",
    "autolabel(rects1)\n",
    "autolabel(rects2)\n",
    "\n",
    "fig.tight_layout()\n",
    "\n",
    "plt.show()"
   ]
  },
  {
   "cell_type": "markdown",
   "metadata": {},
   "source": [
    "Можно сделать следующие выводы из последних трех графиков:\n",
    " * На валидационной выборке значения метрик падают при удалении пропусков из данных;\n",
    " * На тестовой выборке значения метрик растут при удалении пропусков;\n",
    " * F1-мера более чувствительна к удалению пропусков, в отличие от AUC-ROC."
   ]
  },
  {
   "cell_type": "markdown",
   "metadata": {},
   "source": [
    "<a id='9'></a>"
   ]
  },
  {
   "cell_type": "markdown",
   "metadata": {},
   "source": [
    "## 9. Вывод<div align=right>[To top](#top)</div>"
   ]
  },
  {
   "cell_type": "markdown",
   "metadata": {},
   "source": [
    "В соответствии с заданием создали несколько моделей чтобы решить поставленную задачу прогноза оттока клиентов.\n",
    "\n",
    "В результате испытаний определили, что наиболее подходящей моделью, в нашем случае, является модель \"Случайный лес\" с гиперпараметрами максимальная глубина дерева 7 и количеством деревьев 61 при условии удаления пропусков из данных. F1-мера составила **0,64**.\n",
    "\n",
    "Перед обучением модели провели подготовку данных и признаков:\n",
    " * удалили пропуски,\n",
    " * удалили не играющие роли в обучении признаки,\n",
    " * закодировали категориальные признаки one-hot методом с применением аргумента drop_first,\n",
    " * масштабировали непрерывные признаки методом стандартизации StandartScaler"
   ]
  }
 ],
 "metadata": {
  "kernelspec": {
   "display_name": "Python 3",
   "language": "python",
   "name": "python3"
  },
  "language_info": {
   "codemirror_mode": {
    "name": "ipython",
    "version": 3
   },
   "file_extension": ".py",
   "mimetype": "text/x-python",
   "name": "python",
   "nbconvert_exporter": "python",
   "pygments_lexer": "ipython3",
   "version": "3.7.9"
  }
 },
 "nbformat": 4,
 "nbformat_minor": 4
}
