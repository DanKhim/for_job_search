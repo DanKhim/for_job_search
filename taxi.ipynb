{
 "cells": [
  {
   "cell_type": "markdown",
   "metadata": {},
   "source": [
    "# День добрый\n",
    "___\n",
    "### Представляю твоему вниманию проектную работу\n",
    "## <ins>\"Прогнозирование количества заказов такси\"</ins>\n",
    "___\n",
    "### Данное исследование разделим на несколько шагов:\n",
    "___\n",
    "<a id='top'></a>\n",
    "1. [Постановка задачи](#1)\n",
    "2. [Общая информация о данных](#2)\n",
    "3. [Предобработка данных](#3)\n",
    "4. [Анализ данных](#4)\n",
    "5. [Подготовка признаков](#5)\n",
    "6. [Модели](#6)\n",
    " * [Константная модель](#6.1)\n",
    " * [Остальные модели](#6.2)\n",
    "7. [Вывод](#7)"
   ]
  },
  {
   "cell_type": "markdown",
   "metadata": {},
   "source": [
    "<a id='1'></a>"
   ]
  },
  {
   "cell_type": "markdown",
   "metadata": {},
   "source": [
    "## 1. Постановка задачи"
   ]
  },
  {
   "cell_type": "markdown",
   "metadata": {},
   "source": [
    "С помощью моделей машинного обучения предскажем количство заказов такси на следующий час для оптимизации работы компании \"Чётенькое такси\"."
   ]
  },
  {
   "cell_type": "markdown",
   "metadata": {},
   "source": [
    "<a id='2'></a>"
   ]
  },
  {
   "cell_type": "markdown",
   "metadata": {},
   "source": [
    "## 2. Общая информация о данных"
   ]
  },
  {
   "cell_type": "code",
   "execution_count": 1,
   "metadata": {},
   "outputs": [],
   "source": [
    "import pandas as pd\n",
    "import numpy as np\n",
    "import matplotlib.pyplot as plt\n",
    "import time\n",
    "\n",
    "from sklearn.model_selection import GridSearchCV, TimeSeriesSplit, train_test_split\n",
    "\n",
    "from sklearn.metrics import mean_squared_error\n",
    "\n",
    "from statsmodels.tsa.seasonal import seasonal_decompose\n",
    "\n",
    "from sklearn.preprocessing import StandardScaler\n",
    "\n",
    "from sklearn.tree import DecisionTreeRegressor\n",
    "from sklearn.ensemble import RandomForestRegressor\n",
    "from sklearn.linear_model import LinearRegression\n",
    "from catboost import CatBoostRegressor\n",
    "from lightgbm import LGBMRegressor"
   ]
  },
  {
   "cell_type": "code",
   "execution_count": 2,
   "metadata": {},
   "outputs": [],
   "source": [
    "try:\n",
    "    df = pd.read_csv(\"taxi.csv\")\n",
    "except:\n",
    "    try:\n",
    "        df = pd.read_csv(\"/datasets/taxi.csv\")\n",
    "    except:\n",
    "        df = pd.read_csv(\"https://code.s3.yandex.net/datasets/taxi.csv\")"
   ]
  },
  {
   "cell_type": "code",
   "execution_count": 3,
   "metadata": {},
   "outputs": [
    {
     "data": {
      "text/html": [
       "<div>\n",
       "<style scoped>\n",
       "    .dataframe tbody tr th:only-of-type {\n",
       "        vertical-align: middle;\n",
       "    }\n",
       "\n",
       "    .dataframe tbody tr th {\n",
       "        vertical-align: top;\n",
       "    }\n",
       "\n",
       "    .dataframe thead th {\n",
       "        text-align: right;\n",
       "    }\n",
       "</style>\n",
       "<table border=\"1\" class=\"dataframe\">\n",
       "  <thead>\n",
       "    <tr style=\"text-align: right;\">\n",
       "      <th></th>\n",
       "      <th>datetime</th>\n",
       "      <th>num_orders</th>\n",
       "    </tr>\n",
       "  </thead>\n",
       "  <tbody>\n",
       "    <tr>\n",
       "      <td>0</td>\n",
       "      <td>2018-03-01 00:00:00</td>\n",
       "      <td>9</td>\n",
       "    </tr>\n",
       "    <tr>\n",
       "      <td>1</td>\n",
       "      <td>2018-03-01 00:10:00</td>\n",
       "      <td>14</td>\n",
       "    </tr>\n",
       "    <tr>\n",
       "      <td>2</td>\n",
       "      <td>2018-03-01 00:20:00</td>\n",
       "      <td>28</td>\n",
       "    </tr>\n",
       "    <tr>\n",
       "      <td>3</td>\n",
       "      <td>2018-03-01 00:30:00</td>\n",
       "      <td>20</td>\n",
       "    </tr>\n",
       "    <tr>\n",
       "      <td>4</td>\n",
       "      <td>2018-03-01 00:40:00</td>\n",
       "      <td>32</td>\n",
       "    </tr>\n",
       "  </tbody>\n",
       "</table>\n",
       "</div>"
      ],
      "text/plain": [
       "              datetime  num_orders\n",
       "0  2018-03-01 00:00:00           9\n",
       "1  2018-03-01 00:10:00          14\n",
       "2  2018-03-01 00:20:00          28\n",
       "3  2018-03-01 00:30:00          20\n",
       "4  2018-03-01 00:40:00          32"
      ]
     },
     "metadata": {},
     "output_type": "display_data"
    },
    {
     "name": "stdout",
     "output_type": "stream",
     "text": [
      "\n",
      "<class 'pandas.core.frame.DataFrame'>\n",
      "RangeIndex: 26496 entries, 0 to 26495\n",
      "Data columns (total 2 columns):\n",
      "datetime      26496 non-null object\n",
      "num_orders    26496 non-null int64\n",
      "dtypes: int64(1), object(1)\n",
      "memory usage: 414.1+ KB\n",
      "None\n"
     ]
    }
   ],
   "source": [
    "display(df.head())\n",
    "print()\n",
    "print(df.info())"
   ]
  },
  {
   "cell_type": "markdown",
   "metadata": {},
   "source": [
    "В нашем распоряжении таблица с информацией о количестве заказов за промежутки времени в 10 минут. Данных не много, пропусков нет. Нужно будет столбец с датой и временем перевести в нужный формат и сделать его индексом и проверить на аномалии данные."
   ]
  },
  {
   "cell_type": "markdown",
   "metadata": {},
   "source": [
    "<a id='3'></a>"
   ]
  },
  {
   "cell_type": "markdown",
   "metadata": {},
   "source": [
    "## 3. Предобработка данных<div align=right>[To top](#top)</div>"
   ]
  },
  {
   "cell_type": "markdown",
   "metadata": {},
   "source": [
    "Сделаем столбец `datetime` индеском и отсортируем по времени."
   ]
  },
  {
   "cell_type": "code",
   "execution_count": 4,
   "metadata": {},
   "outputs": [],
   "source": [
    "# переводим в нужный формат дату и время\n",
    "\n",
    "df['datetime'] = pd.to_datetime(df['datetime'])"
   ]
  },
  {
   "cell_type": "code",
   "execution_count": 5,
   "metadata": {},
   "outputs": [],
   "source": [
    "df = df.set_index('datetime')\n",
    "df = df.sort_index()"
   ]
  },
  {
   "cell_type": "code",
   "execution_count": 6,
   "metadata": {},
   "outputs": [
    {
     "data": {
      "text/plain": [
       "True"
      ]
     },
     "execution_count": 6,
     "metadata": {},
     "output_type": "execute_result"
    }
   ],
   "source": [
    "# проверим правильно ли отсортировалось время\n",
    "\n",
    "df.index.is_monotonic"
   ]
  },
  {
   "cell_type": "code",
   "execution_count": 7,
   "metadata": {},
   "outputs": [
    {
     "data": {
      "text/html": [
       "<div>\n",
       "<style scoped>\n",
       "    .dataframe tbody tr th:only-of-type {\n",
       "        vertical-align: middle;\n",
       "    }\n",
       "\n",
       "    .dataframe tbody tr th {\n",
       "        vertical-align: top;\n",
       "    }\n",
       "\n",
       "    .dataframe thead th {\n",
       "        text-align: right;\n",
       "    }\n",
       "</style>\n",
       "<table border=\"1\" class=\"dataframe\">\n",
       "  <thead>\n",
       "    <tr style=\"text-align: right;\">\n",
       "      <th></th>\n",
       "      <th>num_orders</th>\n",
       "    </tr>\n",
       "    <tr>\n",
       "      <th>datetime</th>\n",
       "      <th></th>\n",
       "    </tr>\n",
       "  </thead>\n",
       "  <tbody>\n",
       "    <tr>\n",
       "      <td>2018-03-01 00:00:00</td>\n",
       "      <td>9</td>\n",
       "    </tr>\n",
       "    <tr>\n",
       "      <td>2018-03-01 00:10:00</td>\n",
       "      <td>14</td>\n",
       "    </tr>\n",
       "    <tr>\n",
       "      <td>2018-03-01 00:20:00</td>\n",
       "      <td>28</td>\n",
       "    </tr>\n",
       "    <tr>\n",
       "      <td>2018-03-01 00:30:00</td>\n",
       "      <td>20</td>\n",
       "    </tr>\n",
       "    <tr>\n",
       "      <td>2018-03-01 00:40:00</td>\n",
       "      <td>32</td>\n",
       "    </tr>\n",
       "  </tbody>\n",
       "</table>\n",
       "</div>"
      ],
      "text/plain": [
       "                     num_orders\n",
       "datetime                       \n",
       "2018-03-01 00:00:00           9\n",
       "2018-03-01 00:10:00          14\n",
       "2018-03-01 00:20:00          28\n",
       "2018-03-01 00:30:00          20\n",
       "2018-03-01 00:40:00          32"
      ]
     },
     "execution_count": 7,
     "metadata": {},
     "output_type": "execute_result"
    }
   ],
   "source": [
    "df.head()"
   ]
  },
  {
   "cell_type": "markdown",
   "metadata": {},
   "source": [
    "Посмотрим как распределены данные на гистограмме, нет ли явных аномалий."
   ]
  },
  {
   "cell_type": "code",
   "execution_count": 8,
   "metadata": {},
   "outputs": [
    {
     "data": {
      "text/plain": [
       "<matplotlib.axes._subplots.AxesSubplot at 0x15c0a83d408>"
      ]
     },
     "execution_count": 8,
     "metadata": {},
     "output_type": "execute_result"
    },
    {
     "data": {
      "image/png": "[encoded data removed]",
      "text/plain": [
       "<Figure size 432x288 with 1 Axes>"
      ]
     },
     "metadata": {
      "needs_background": "light"
     },
     "output_type": "display_data"
    }
   ],
   "source": [
    "df['num_orders'].hist(bins=200, grid=False)"
   ]
  },
  {
   "cell_type": "markdown",
   "metadata": {},
   "source": [
    "Каких-то явных аномалий не видно."
   ]
  },
  {
   "cell_type": "markdown",
   "metadata": {},
   "source": [
    "Сделаем ресемплирование данных с шагом в один час. В качестве агрегации промежуточных данных возьмем сумму."
   ]
  },
  {
   "cell_type": "code",
   "execution_count": 9,
   "metadata": {},
   "outputs": [],
   "source": [
    "df = df.resample('1H').sum()"
   ]
  },
  {
   "cell_type": "markdown",
   "metadata": {},
   "source": [
    "<a id='4'></a>"
   ]
  },
  {
   "cell_type": "markdown",
   "metadata": {},
   "source": [
    "## 4. Анализ данных<div align=right>[To top](#top)</div>"
   ]
  },
  {
   "cell_type": "markdown",
   "metadata": {},
   "source": [
    "Отобразим ряд на графике:"
   ]
  },
  {
   "cell_type": "code",
   "execution_count": 10,
   "metadata": {},
   "outputs": [
    {
     "data": {
      "text/plain": [
       "<matplotlib.axes._subplots.AxesSubplot at 0x15c0aba5a48>"
      ]
     },
     "execution_count": 10,
     "metadata": {},
     "output_type": "execute_result"
    },
    {
     "data": {
      "image/png": "[encoded data removed]",
      "text/plain": [
       "<Figure size 1080x360 with 1 Axes>"
      ]
     },
     "metadata": {
      "needs_background": "light"
     },
     "output_type": "display_data"
    }
   ],
   "source": [
    "df.plot(figsize=(15, 5))"
   ]
  },
  {
   "cell_type": "markdown",
   "metadata": {},
   "source": [
    "По графику видим, что ряд является нестационарным, т.к. меняется его среднее и дисперсия.\n",
    "\n",
    "С помощью функции seasonal_decompose() из библиотеки statsmodels разложим наш ряд на составляющие тренд, сезонность и остатки."
   ]
  },
  {
   "cell_type": "code",
   "execution_count": 11,
   "metadata": {},
   "outputs": [],
   "source": [
    "decomposed = seasonal_decompose(df)"
   ]
  },
  {
   "cell_type": "code",
   "execution_count": 12,
   "metadata": {},
   "outputs": [
    {
     "data": {
      "image/png": "[encoded data removed]",
      "text/plain": [
       "<Figure size 936x720 with 3 Axes>"
      ]
     },
     "metadata": {
      "needs_background": "light"
     },
     "output_type": "display_data"
    }
   ],
   "source": [
    "plt.figure(figsize=(13, 10))\n",
    "\n",
    "plt.subplot(311)\n",
    "decomposed.trend.plot(ax=plt.gca())\n",
    "plt.title('Trend')\n",
    "\n",
    "plt.subplot(312)\n",
    "# возьмем данные за 2 дня чтобы можно было разглядеть периодические колебания\n",
    "decomposed.seasonal['2018-03-01':'2018-03-02'].plot(ax=plt.gca())\n",
    "plt.title('Seasonality')\n",
    "\n",
    "plt.subplot(313)\n",
    "decomposed.resid['2018-03-02':'2018-03-05'].plot(ax=plt.gca())\n",
    "plt.title('Residuals')\n",
    "\n",
    "plt.tight_layout()"
   ]
  },
  {
   "cell_type": "markdown",
   "metadata": {},
   "source": [
    "Из графиков видим, что наблюдается устойчивый рост числа заказов такси с марта по август включительно.  \n",
    "По графику сезонности можно выявить периодические колебания числа заказов такси, преиод составляет 24 часа. Можно отметить резкий спад с полуночи до шести утра и плавный неравномерный рост с шести утра до полуночи.  \n",
    "Также видим много шумов на графике остатков."
   ]
  },
  {
   "cell_type": "markdown",
   "metadata": {},
   "source": [
    "<a id='5'></a>"
   ]
  },
  {
   "cell_type": "markdown",
   "metadata": {},
   "source": [
    "## 5. Подготовка признаков<div align=right>[To top](#top)</div>"
   ]
  },
  {
   "cell_type": "markdown",
   "metadata": {},
   "source": [
    "Определим функцию `features_maker`, которая будет создавать признаки, необходимые для обучения моделей. На вход будет принимать данные, значение максимального сдвига и значение размера окна для скользящего среднего. Также создадим календарные признаки."
   ]
  },
  {
   "cell_type": "code",
   "execution_count": 13,
   "metadata": {},
   "outputs": [],
   "source": [
    "def features_maker(data, max_lag, rolling_mean_size):\n",
    "    data_2 = data.copy()\n",
    "    \n",
    "    data_2['month'] = data_2.index.month\n",
    "    data_2['day'] = data_2.index.day\n",
    "    data_2['day_of_week'] = data_2.index.dayofweek\n",
    "    data_2['hour'] = data_2.index.hour\n",
    "    \n",
    "    for lag in range(1, max_lag + 1):\n",
    "        data_2['lag_{}'.format(lag)] = data_2['num_orders'].shift(lag)\n",
    "        \n",
    "    data_2['rolling_mean'] = data_2['num_orders'].shift().rolling(rolling_mean_size).mean()\n",
    "    \n",
    "    return data_2"
   ]
  },
  {
   "cell_type": "markdown",
   "metadata": {},
   "source": [
    "<a id='6'></a>"
   ]
  },
  {
   "cell_type": "markdown",
   "metadata": {},
   "source": [
    "## 6. Модели"
   ]
  },
  {
   "cell_type": "markdown",
   "metadata": {},
   "source": [
    "<a id='6.1'></a>"
   ]
  },
  {
   "cell_type": "markdown",
   "metadata": {},
   "source": [
    "### 6.1 Константная модель"
   ]
  },
  {
   "cell_type": "markdown",
   "metadata": {},
   "source": [
    "Создадим две базовые модели. Одна будет предсказывать значения медианной, другая отстающим значением ряда. Выберем лучшую для проверки на вменяемость остальных моделей."
   ]
  },
  {
   "cell_type": "code",
   "execution_count": 14,
   "metadata": {},
   "outputs": [
    {
     "name": "stdout",
     "output_type": "stream",
     "text": [
      "RMSE при прогнозе медианой: 87.15277582981295\n",
      "\n",
      "RMSE при прогнозе предыдущим значением ряда: 58.856486242815066\n"
     ]
    }
   ],
   "source": [
    "train_const, test_const = train_test_split(df, shuffle=False, test_size=0.1)\n",
    "\n",
    "predictions_const_median = np.ones(test_const.shape) * train_const['num_orders'].median()\n",
    "\n",
    "predictions_const_shift = test_const.shift()\n",
    "predictions_const_shift.iloc[0] = train_const.iloc[-1]\n",
    "\n",
    "print(\"RMSE при прогнозе медианой:\", mean_squared_error(test_const, predictions_const_median) ** 0.5)\n",
    "print()\n",
    "print(\"RMSE при прогнозе предыдущим значением ряда:\", mean_squared_error(test_const, predictions_const_shift) ** 0.5)"
   ]
  },
  {
   "cell_type": "markdown",
   "metadata": {},
   "source": [
    "Константная модель, прогнозирующая отстающим значением ряда, показала лучший результат с RMSE = 59. Это будет наш `baseline`."
   ]
  },
  {
   "cell_type": "markdown",
   "metadata": {},
   "source": [
    "<a id='6.2'></a>"
   ]
  },
  {
   "cell_type": "markdown",
   "metadata": {},
   "source": [
    "### 6.2 Остальные модели"
   ]
  },
  {
   "cell_type": "markdown",
   "metadata": {},
   "source": [
    "Используем следующие модели машинного обучения: Tree, Random forest, Linear regression, CatBoost и LightGBM."
   ]
  },
  {
   "cell_type": "markdown",
   "metadata": {},
   "source": [
    "Подберем параметры через GridSearchCV."
   ]
  },
  {
   "cell_type": "code",
   "execution_count": 15,
   "metadata": {},
   "outputs": [],
   "source": [
    "# создаем объект tscv\n",
    "# используем TimeSeriesSplit т.к. во временных рядах нельзя использовать стандартную кросс-валидацию\n",
    "\n",
    "tscv = TimeSeriesSplit(n_splits=2)"
   ]
  },
  {
   "cell_type": "code",
   "execution_count": 16,
   "metadata": {},
   "outputs": [],
   "source": [
    "# для перебора гиперпараметров используем ограниченный набор чисел чтобы ускорить время выполнения циклов\n",
    "\n",
    "tree_Grid = GridSearchCV(estimator=DecisionTreeRegressor(random_state=237),\n",
    "                         param_grid={'max_depth':np.arange(6, 11, 2)},\n",
    "                         scoring='neg_mean_squared_error',\n",
    "                         cv=tscv,\n",
    "                         n_jobs=2)"
   ]
  },
  {
   "cell_type": "code",
   "execution_count": 17,
   "metadata": {},
   "outputs": [],
   "source": [
    "rf_Grid = GridSearchCV(estimator=RandomForestRegressor(random_state=237),\n",
    "                       param_grid={'n_estimators':np.arange(90, 101, 3), 'max_depth':np.arange(21, 28, 3)},\n",
    "                       scoring='neg_mean_squared_error',\n",
    "                       cv=tscv,\n",
    "                       n_jobs=2)"
   ]
  },
  {
   "cell_type": "code",
   "execution_count": 18,
   "metadata": {},
   "outputs": [],
   "source": [
    "cb_Grid = GridSearchCV(estimator=CatBoostRegressor(learning_rate=0.1, verbose=False),\n",
    "                       param_grid={'iterations':np.arange(100, 150, 10), 'depth':np.arange(6, 9, 2)},\n",
    "                       scoring='neg_mean_squared_error',\n",
    "                       cv=tscv,\n",
    "                       n_jobs=2)"
   ]
  },
  {
   "cell_type": "code",
   "execution_count": 19,
   "metadata": {},
   "outputs": [],
   "source": [
    "lg_Grid = GridSearchCV(estimator=LGBMRegressor(),\n",
    "                       param_grid={'num_leaves':np.arange(50, 63, 2),\n",
    "                                   'max_depth':np.arange(4, 7, 2),\n",
    "                                   'n_estimators':np.arange(100, 150, 10)},\n",
    "                       scoring='neg_mean_squared_error',\n",
    "                       cv=tscv,\n",
    "                       n_jobs=2)"
   ]
  },
  {
   "cell_type": "markdown",
   "metadata": {},
   "source": [
    "Будем в циклах менять значения максимального сдвига и размер окна для скользящего среднего.  \n",
    "Внутри циклов в данных будут появляться новые признаки, данные будут делиться на обучающую и тестовую выборки, у модели будут перебираться гиперпараметры и лучший результат пойдет на проверку на тестовой выборке.  \n",
    "Все результаты и гиперпараметры будут заноситься в списки, из которых потом соберем датафрейм и выделим строку с наименьшим RMSE."
   ]
  },
  {
   "cell_type": "code",
   "execution_count": 20,
   "metadata": {
    "scrolled": true
   },
   "outputs": [
    {
     "name": "stdout",
     "output_type": "stream",
     "text": [
      "Время большого цикла номер 1 составляет 102.80018281936646\n",
      "Время большого цикла номер 3 составляет 116.0667188167572\n",
      "Время большого цикла номер 5 составляет 132.54666209220886\n",
      "Время большого цикла номер 7 составляет 147.87668132781982\n",
      "Время большого цикла номер 9 составляет 163.83701419830322\n",
      "Время большого цикла номер 11 составляет 179.94794487953186\n",
      "Wall time: 14min 3s\n"
     ]
    }
   ],
   "source": [
    "%%time\n",
    "\n",
    "# определим списки для переменных, чтобы потом собрать все в датафрейм и выявить лучший результат\n",
    "score_tree_list = []\n",
    "max_depth_tree_list = []\n",
    "\n",
    "score_rf_list = []\n",
    "n_estimators_rf_list = []\n",
    "max_depth_rf_list = []\n",
    "\n",
    "score_lr_list = []\n",
    "\n",
    "score_cb_list = []\n",
    "iterations_cb_list = []\n",
    "max_depth_cb_list = []\n",
    "\n",
    "score_lg_list = []\n",
    "num_leaves_lg_list = []\n",
    "max_depth_lg_list = []\n",
    "n_estimators_lg_list = []\n",
    "\n",
    "lag_list = []\n",
    "rolling_mean_size_list = []\n",
    "\n",
    "\n",
    "for lag in range(1, 12, 2):\n",
    "    # для контроля засечем время выполнения большого цикла\n",
    "    start = time.time()\n",
    "    \n",
    "    for roll_size in range(1, 12, 2):\n",
    "        \n",
    "        # преобразуем данные функцией\n",
    "        df_fm = features_maker(df, lag, roll_size)\n",
    "        \n",
    "        # делим на обучающую и тестовую выборки и удаляем пропуски\n",
    "        train, test = train_test_split(df_fm, shuffle=False, test_size=0.1)\n",
    "        train = train.dropna()\n",
    "        \n",
    "        # определяем признаки и целевой признак\n",
    "        features_train = train.drop('num_orders', axis=1)\n",
    "        features_test = test.drop('num_orders', axis=1)\n",
    "        target_train = train['num_orders']\n",
    "        target_test = test['num_orders']\n",
    "        \n",
    "        # стандартизируем значения\n",
    "        scaler = StandardScaler()\n",
    "        scaler.fit(features_train)\n",
    "        features_train = scaler.transform(features_train)\n",
    "        features_test = scaler.transform(features_test)\n",
    "        \n",
    "        # tree\n",
    "        #=====\n",
    "        tree_Grid.fit(features_train, target_train)\n",
    "        best_params_tree = tree_Grid.best_params_\n",
    "        \n",
    "        model_tree = DecisionTreeRegressor(max_depth=best_params_tree['max_depth'], random_state=237)\n",
    "        model_tree.fit(features_train, target_train)\n",
    "        predictions_tree = model_tree.predict(features_test)\n",
    "        score_tree = mean_squared_error(target_test, predictions_tree) ** 0.5\n",
    "        \n",
    "        # Random forest\n",
    "        #==============\n",
    "        rf_Grid.fit(features_train, target_train)\n",
    "        best_params_rf = rf_Grid.best_params_\n",
    "        \n",
    "        model_rf = RandomForestRegressor(n_estimators=best_params_rf['n_estimators'],\n",
    "                                         max_depth=best_params_rf['max_depth'],\n",
    "                                         random_state=237)\n",
    "        \n",
    "        model_rf.fit(features_train, target_train)\n",
    "        predictions_rf = model_rf.predict(features_test)\n",
    "        score_rf = mean_squared_error(target_test, predictions_rf) ** 0.5\n",
    "        \n",
    "        # Linear regression\n",
    "        #==================\n",
    "        model_lr = LinearRegression()\n",
    "        model_lr.fit(features_train, target_train)\n",
    "        predictions_lr = model_lr.predict(features_test)\n",
    "        score_lr = mean_squared_error(target_test, predictions_lr) ** 0.5\n",
    "        \n",
    "        # CatBoost\n",
    "        #=========\n",
    "        cb_Grid.fit(features_train, target_train)\n",
    "        best_params_cb = cb_Grid.best_params_\n",
    "        \n",
    "        model_cb = CatBoostRegressor(iterations=best_params_cb['iterations'],\n",
    "                                     depth=best_params_cb['depth'],\n",
    "                                     learning_rate=0.1,\n",
    "                                     verbose=False)\n",
    "        \n",
    "        model_cb.fit(features_train, target_train)\n",
    "        predictions_cb = model_cb.predict(features_test)\n",
    "        score_cb = mean_squared_error(target_test, predictions_cb) ** 0.5\n",
    "        \n",
    "        #LightGBM\n",
    "        #========\n",
    "        lg_Grid.fit(features_train, target_train)\n",
    "        best_params_lg = lg_Grid.best_params_\n",
    "        \n",
    "        model_lg = LGBMRegressor(num_leaves=best_params_lg['num_leaves'],\n",
    "                                 max_depth=best_params_lg['max_depth'],\n",
    "                                 n_estimators=best_params_lg['n_estimators'],\n",
    "                                 n_jobs=2)\n",
    "        \n",
    "        model_lg.fit(features_train, target_train)\n",
    "        predictions_lg = model_lg.predict(features_test)\n",
    "        score_lg = mean_squared_error(target_test, predictions_lg) ** 0.5\n",
    "                \n",
    "        # lists.append\n",
    "        #=============\n",
    "        lag_list.append(lag)\n",
    "        rolling_mean_size_list.append(roll_size)\n",
    "        \n",
    "        max_depth_tree_list.append(best_params_tree[\"max_depth\"])\n",
    "        score_tree_list.append(score_tree)\n",
    "        \n",
    "        n_estimators_rf_list.append(best_params_rf['n_estimators'])\n",
    "        max_depth_rf_list.append(best_params_rf[\"max_depth\"])\n",
    "        score_rf_list.append(score_rf)\n",
    "        \n",
    "        score_lr_list.append(score_lr)\n",
    "        \n",
    "        iterations_cb_list.append(best_params_cb['iterations'])\n",
    "        max_depth_cb_list.append(best_params_cb['depth'])\n",
    "        score_cb_list.append(score_cb)\n",
    "        \n",
    "        num_leaves_lg_list.append(best_params_lg['num_leaves'])\n",
    "        max_depth_lg_list.append(best_params_lg['max_depth'])\n",
    "        n_estimators_lg_list.append(best_params_lg['n_estimators'])\n",
    "        score_lg_list.append(score_lg)\n",
    "        \n",
    "    stop = time.time()\n",
    "    print('Время большого цикла номер', lag, 'составляет', stop - start)"
   ]
  },
  {
   "cell_type": "code",
   "execution_count": 21,
   "metadata": {},
   "outputs": [],
   "source": [
    "# собираем данные в таблицу\n",
    "\n",
    "df_results = pd.DataFrame({'lag':lag_list,\n",
    "                           'rolling_mean_size':rolling_mean_size_list,\n",
    "                           \n",
    "                           'max_depth_tree':max_depth_tree_list,\n",
    "                           'score_tree':score_tree_list,\n",
    "                           \n",
    "                           'n_estimators_rf':n_estimators_rf_list,\n",
    "                           'max_depth_rf':max_depth_rf_list,\n",
    "                           'score_rf':score_rf_list,\n",
    "                           \n",
    "                           'score_lr':score_lr_list,\n",
    "                           \n",
    "                           'iterations_cb':iterations_cb_list,\n",
    "                           'max_depth_cb':max_depth_cb_list,\n",
    "                           'score_cb':score_cb_list,\n",
    "                           \n",
    "                           'num_leaves_lg':num_leaves_lg_list,\n",
    "                           'max_depth_lg':max_depth_lg_list,\n",
    "                           'n_estimators_lg':n_estimators_lg_list,\n",
    "                           'score_lg':score_lg_list})"
   ]
  },
  {
   "cell_type": "markdown",
   "metadata": {},
   "source": [
    "<a id='7'></a>"
   ]
  },
  {
   "cell_type": "markdown",
   "metadata": {},
   "source": [
    "## 7. Вывод<div align=right>[To top](#top)</div>"
   ]
  },
  {
   "cell_type": "markdown",
   "metadata": {},
   "source": [
    "В таблице ниже представлены результаты работы моделей по предсказанию количества заказов такси на следующий час:"
   ]
  },
  {
   "cell_type": "code",
   "execution_count": 22,
   "metadata": {},
   "outputs": [
    {
     "data": {
      "text/html": [
       "<div>\n",
       "<style scoped>\n",
       "    .dataframe tbody tr th:only-of-type {\n",
       "        vertical-align: middle;\n",
       "    }\n",
       "\n",
       "    .dataframe tbody tr th {\n",
       "        vertical-align: top;\n",
       "    }\n",
       "\n",
       "    .dataframe thead th {\n",
       "        text-align: right;\n",
       "    }\n",
       "</style>\n",
       "<table border=\"1\" class=\"dataframe\">\n",
       "  <thead>\n",
       "    <tr style=\"text-align: right;\">\n",
       "      <th></th>\n",
       "      <th>RMSE</th>\n",
       "      <th>Lag</th>\n",
       "      <th>Rolling_mean_size</th>\n",
       "      <th>Max_depth</th>\n",
       "      <th>N_estimators</th>\n",
       "      <th>Iterations</th>\n",
       "      <th>Num_leaves</th>\n",
       "    </tr>\n",
       "  </thead>\n",
       "  <tbody>\n",
       "    <tr>\n",
       "      <td>Tree</td>\n",
       "      <td>46.89</td>\n",
       "      <td>9</td>\n",
       "      <td>5</td>\n",
       "      <td>8</td>\n",
       "      <td>/////</td>\n",
       "      <td>/////</td>\n",
       "      <td>/////</td>\n",
       "    </tr>\n",
       "    <tr>\n",
       "      <td>Random forest</td>\n",
       "      <td>43.11</td>\n",
       "      <td>11</td>\n",
       "      <td>3</td>\n",
       "      <td>24</td>\n",
       "      <td>99</td>\n",
       "      <td>/////</td>\n",
       "      <td>/////</td>\n",
       "    </tr>\n",
       "    <tr>\n",
       "      <td>Linear regression</td>\n",
       "      <td>52.23</td>\n",
       "      <td>11</td>\n",
       "      <td>11</td>\n",
       "      <td>/////</td>\n",
       "      <td>/////</td>\n",
       "      <td>/////</td>\n",
       "      <td>/////</td>\n",
       "    </tr>\n",
       "    <tr>\n",
       "      <td>CatBoost</td>\n",
       "      <td>42.50</td>\n",
       "      <td>1</td>\n",
       "      <td>9</td>\n",
       "      <td>6</td>\n",
       "      <td>/////</td>\n",
       "      <td>130</td>\n",
       "      <td>/////</td>\n",
       "    </tr>\n",
       "    <tr>\n",
       "      <td>LightGBM</td>\n",
       "      <td>40.78</td>\n",
       "      <td>1</td>\n",
       "      <td>9</td>\n",
       "      <td>4</td>\n",
       "      <td>120</td>\n",
       "      <td>/////</td>\n",
       "      <td>50</td>\n",
       "    </tr>\n",
       "  </tbody>\n",
       "</table>\n",
       "</div>"
      ],
      "text/plain": [
       "                    RMSE  Lag  Rolling_mean_size Max_depth N_estimators  \\\n",
       "Tree               46.89    9                  5         8        /////   \n",
       "Random forest      43.11   11                  3        24           99   \n",
       "Linear regression  52.23   11                 11     /////        /////   \n",
       "CatBoost           42.50    1                  9         6        /////   \n",
       "LightGBM           40.78    1                  9         4          120   \n",
       "\n",
       "                  Iterations Num_leaves  \n",
       "Tree                   /////      /////  \n",
       "Random forest          /////      /////  \n",
       "Linear regression      /////      /////  \n",
       "CatBoost                 130      /////  \n",
       "LightGBM               /////         50  "
      ]
     },
     "execution_count": 22,
     "metadata": {},
     "output_type": "execute_result"
    }
   ],
   "source": [
    "mae_best_list = [\n",
    "    df_results.loc[df_results['score_tree'] == df_results['score_tree'].min(), 'score_tree'].values[0],\n",
    "    df_results.loc[df_results['score_rf'] == df_results['score_rf'].min(), 'score_rf'].values[0],\n",
    "    df_results.loc[df_results['score_lr'] == df_results['score_lr'].min(), 'score_lr'].values[0],\n",
    "    df_results.loc[df_results['score_cb'] == df_results['score_cb'].min(), 'score_cb'].values[0],\n",
    "    df_results.loc[df_results['score_lg'] == df_results['score_lg'].min(), 'score_lg'].values[0]\n",
    "]\n",
    "\n",
    "lag_best_list = [\n",
    "    df_results.loc[df_results['score_tree'] == df_results['score_tree'].min(), 'lag'].values[0],\n",
    "    df_results.loc[df_results['score_rf'] == df_results['score_rf'].min(), 'lag'].values[0],\n",
    "    df_results.loc[df_results['score_lr'] == df_results['score_lr'].min(), 'lag'].values[0],\n",
    "    df_results.loc[df_results['score_cb'] == df_results['score_cb'].min(), 'lag'].values[0],\n",
    "    df_results.loc[df_results['score_lg'] == df_results['score_lg'].min(), 'lag'].values[0]\n",
    "]\n",
    "\n",
    "rolling_mean_size_best_list = [\n",
    "    df_results.loc[df_results['score_tree'] == df_results['score_tree'].min(), 'rolling_mean_size'].values[0],\n",
    "    df_results.loc[df_results['score_rf'] == df_results['score_rf'].min(), 'rolling_mean_size'].values[0],\n",
    "    df_results.loc[df_results['score_lr'] == df_results['score_lr'].min(), 'rolling_mean_size'].values[0],\n",
    "    df_results.loc[df_results['score_cb'] == df_results['score_cb'].min(), 'rolling_mean_size'].values[0],\n",
    "    df_results.loc[df_results['score_lg'] == df_results['score_lg'].min(), 'rolling_mean_size'].values[0]\n",
    "]\n",
    "\n",
    "max_depth_best_list = [\n",
    "    df_results.loc[df_results['score_tree'] == df_results['score_tree'].min(), 'max_depth_tree'].values[0],\n",
    "    df_results.loc[df_results['score_rf'] == df_results['score_rf'].min(), 'max_depth_rf'].values[0],\n",
    "    '/////',\n",
    "    df_results.loc[df_results['score_cb'] == df_results['score_cb'].min(), 'max_depth_cb'].values[0],\n",
    "    df_results.loc[df_results['score_lg'] == df_results['score_lg'].min(), 'max_depth_lg'].values[0],\n",
    "]\n",
    "\n",
    "n_estimators_best_list = [\n",
    "    '/////',\n",
    "    df_results.loc[df_results['score_rf'] == df_results['score_rf'].min(), 'n_estimators_rf'].values[0],\n",
    "    '/////',\n",
    "    '/////',\n",
    "    df_results.loc[df_results['score_lg'] == df_results['score_lg'].min(), 'n_estimators_lg'].values[0]\n",
    "]\n",
    "\n",
    "iterations_best_list = [\n",
    "    '/////',\n",
    "    '/////',\n",
    "    '/////',\n",
    "    df_results.loc[df_results['score_cb'] == df_results['score_cb'].min(), 'iterations_cb'].values[0],\n",
    "    '/////',\n",
    "]\n",
    "\n",
    "num_leaves_best_list = [\n",
    "    '/////',\n",
    "    '/////',\n",
    "    '/////',\n",
    "    '/////',\n",
    "    df_results.loc[df_results['score_lg'] == df_results['score_lg'].min(), 'num_leaves_lg'].values[0]\n",
    "]\n",
    "\n",
    "df_results_final = pd.DataFrame({'RMSE':mae_best_list,\n",
    "                                 'Lag':lag_best_list,\n",
    "                                 'Rolling_mean_size':rolling_mean_size_best_list,\n",
    "                                 'Max_depth':max_depth_best_list,\n",
    "                                 'N_estimators':n_estimators_best_list,\n",
    "                                 'Iterations':iterations_best_list,\n",
    "                                 'Num_leaves':num_leaves_best_list\n",
    "                                },\n",
    "                               \n",
    "                                index=['Tree',\n",
    "                                       'Random forest',\n",
    "                                       'Linear regression',\n",
    "                                       'CatBoost',\n",
    "                                       'LightGBM'])\n",
    "\n",
    "df_results_final = df_results_final.round(2)\n",
    "df_results_final"
   ]
  },
  {
   "cell_type": "markdown",
   "metadata": {},
   "source": [
    "Все модели прошли тест на адекватность.\n",
    "\n",
    "Самый лучший результат показала модель LightGBM, ее абсолютная ошибка составляет 29,95. Можем предложить заказчику использовать данную модель для прогнозирования числа заказов такси на следующий час.\n",
    "\n",
    "По таблице финальных результатов также можно отметить, что \"деревянным\" моделям требуется большее количество признаков для получения лучшего результата, что в свою очередь влечет за собой увеличение затрачиваемого времени на обучение и предсказание этих моделей."
   ]
  },
  {
   "cell_type": "markdown",
   "metadata": {},
   "source": [
    "Спасибо за внимание:)"
   ]
  }
 ],
 "metadata": {
  "kernelspec": {
   "display_name": "Python 3",
   "language": "python",
   "name": "python3"
  },
  "language_info": {
   "codemirror_mode": {
    "name": "ipython",
    "version": 3
   },
   "file_extension": ".py",
   "mimetype": "text/x-python",
   "name": "python",
   "nbconvert_exporter": "python",
   "pygments_lexer": "ipython3",
   "version": "3.7.9"
  }
 },
 "nbformat": 4,
 "nbformat_minor": 4
}
